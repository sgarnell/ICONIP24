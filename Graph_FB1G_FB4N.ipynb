{
 "cells": [
  {
   "cell_type": "code",
   "execution_count": 34,
   "id": "dcd9faaf-9daa-4365-a1ae-82c206e4f0e6",
   "metadata": {},
   "outputs": [
    {
     "name": "stdout",
     "output_type": "stream",
     "text": [
      "[matplotlib.pyplot 2024-11-22 17:22:34,040] Loaded backend module://matplotlib_inline.backend_inline version unknown.\n"
     ]
    }
   ],
   "source": [
    "import time\n",
    "import shutil\n",
    "import math\n",
    "import re\n",
    "import csv\n",
    "import numpy as np\n",
    "import matplotlib.pyplot as plt\n",
    "\n",
    "import networkx as nx\n",
    "from graphviz import Digraph\n",
    "\n",
    "from IPython.display import display, JSON\n",
    "from scipy import stats\n",
    "\n",
    "%matplotlib inline\n",
    "my_client = fbl.get_client()"
   ]
  },
  {
   "cell_type": "markdown",
   "id": "99ee7a9e-deec-43e6-b134-064de808e907",
   "metadata": {},
   "source": [
    "# Graphing FB1G and FB4N for ICONIP24"
   ]
  },
  {
   "cell_type": "code",
   "execution_count": 37,
   "id": "5049fc6e-c667-4c12-9094-722256b87d4f",
   "metadata": {},
   "outputs": [
    {
     "name": "stdout",
     "output_type": "stream",
     "text": [
      "[FBL NLP 2024-11-22 18:00:48,760] NLP successfully parsed query.\n"
     ]
    }
   ],
   "source": [
    "data = my_client.executeNLPquery('clear')"
   ]
  },
  {
   "cell_type": "markdown",
   "id": "1a36736a-20df-4e9a-9d73-c8c2836547da",
   "metadata": {},
   "source": [
    "## Start Here: NOI to Investigate"
   ]
  },
  {
   "cell_type": "code",
   "execution_count": 425,
   "id": "8f12e3e1-7542-4991-8736-0c2c9d5e43e6",
   "metadata": {},
   "outputs": [
    {
     "name": "stdout",
     "output_type": "stream",
     "text": [
      "[FBL NLP 2024-07-26 22:46:39,600] NLP successfully parsed query.\n"
     ]
    }
   ],
   "source": [
    "data = my_client.executeNLPquery(\"add $FB1G$\")"
   ]
  },
  {
   "cell_type": "code",
   "execution_count": 40,
   "id": "c32030e2-291c-4a6a-8a65-4c90de353fec",
   "metadata": {},
   "outputs": [
    {
     "name": "stdout",
     "output_type": "stream",
     "text": [
      "show /r(.*)FB1G(.*)_R(.*)/r neurons\n",
      "[FBL NLP 2024-11-22 18:03:23,791] NLP successfully parsed query.\n"
     ]
    }
   ],
   "source": [
    "noi = \"FB1G\"\n",
    "noi2 = f\"/r(.*){noi}(.*)_R(.*)/r\"\n",
    "prePost = 'post'\n",
    "nSys = 35\n",
    "nFilter = '/r(.*)(.*)/r'\n",
    "nplQuery = f\"show {noi2} neurons\"\n",
    "print(nplQuery)\n",
    "data = my_client.executeNLPquery(nplQuery)"
   ]
  },
  {
   "cell_type": "code",
   "execution_count": 41,
   "id": "4cfa62f4-18f2-415a-87b0-7f892ac1fc6f",
   "metadata": {},
   "outputs": [
    {
     "name": "stdout",
     "output_type": "stream",
     "text": [
      "[FBL NLP 2024-11-22 18:03:28,922] NLP successfully parsed query.\n"
     ]
    }
   ],
   "source": [
    "data = my_client.executeNLPquery(f\"add {prePost}synaptic {nFilter} neurons with at least {nSys} synapses\")"
   ]
  },
  {
   "cell_type": "code",
   "execution_count": 42,
   "id": "7de84087-9d6d-47b3-8db9-8bcbb30c1a8c",
   "metadata": {},
   "outputs": [
    {
     "name": "stdout",
     "output_type": "stream",
     "text": [
      "\u001b[92mFB1G_R_1: postSynZmax= 6.385239743772796\u001b[0m\n",
      "\u001b[92mPFR_b(PB11b)_R1_C8_1: postSynZmax= 6.490583708474763\u001b[0m\n",
      "\u001b[92mFB3C_R_4: postSynZmax= 11.773209919788671\u001b[0m\n",
      "\u001b[92mFC1F(FQ6)_C3_L_1: postSynZmax= 4.86557456639234\u001b[0m\n",
      "\u001b[92mFB4C(NO2)_R_1: postSynZmax= 5.131642852656541\u001b[0m\n",
      "\u001b[92mFB3E_R_1: postSynZmax= 8.383500744747218\u001b[0m\n",
      "\u001b[92mhDeltaC_03_C3_2: postSynZmax= 6.383087576984115\u001b[0m\n",
      "\u001b[92mFB3E_L_1: postSynZmax= 9.157765310353927\u001b[0m\n",
      "\u001b[92mFB3C_L_3: postSynZmax= 12.44054185943296\u001b[0m\n",
      "\u001b[92mFB3C_R_2: postSynZmax= 8.978147818605619\u001b[0m\n",
      "\u001b[92mFB4N_R_1: postSynZmax= 6.049566787984049\u001b[0m\n",
      "\u001b[92mFB3C_L_4: postSynZmax= 10.337133506116361\u001b[0m\n",
      "\u001b[92mFB4N_L_1: postSynZmax= 5.670596292773406\u001b[0m\n",
      "\u001b[92mFB3C_L_2: postSynZmax= 9.702704270053886\u001b[0m\n",
      "\u001b[92mFB3C_L_1: postSynZmax= 10.758457185515047\u001b[0m\n",
      "\u001b[92mFB4C(NO2)_L_1: postSynZmax= 4.596890449389471\u001b[0m\n",
      "\u001b[92mFB1G_R_1: preSynZmax= 10.156286862133477\u001b[0m\n",
      "\u001b[92mPFR_b(PB11b)_R1_C8_1: preSynZmax= 8.988537410075862\u001b[0m\n",
      "\u001b[92mFB3C_R_4: preSynZmax= 12.072559895607208\u001b[0m\n",
      "\u001b[92mFC1F(FQ6)_C3_L_1: preSynZmax= 4.733222648109842\u001b[0m\n",
      "\u001b[92mFB4C(NO2)_R_1: preSynZmax= 6.090293119420924\u001b[0m\n",
      "\u001b[92mFB3E_R_1: preSynZmax= 10.617371489905036\u001b[0m\n",
      "\u001b[92mhDeltaC_03_C3_2: preSynZmax= 7.048364030641189\u001b[0m\n",
      "\u001b[92mFB3E_L_1: preSynZmax= 11.467184806533743\u001b[0m\n",
      "\u001b[92mFB3C_L_3: preSynZmax= 9.365854780629576\u001b[0m\n",
      "\u001b[92mFB3C_R_2: preSynZmax= 10.820188063012395\u001b[0m\n",
      "\u001b[92mFB4N_R_1: preSynZmax= 8.206394497169473\u001b[0m\n",
      "\u001b[92mFB3C_L_4: preSynZmax= 9.774115705180073\u001b[0m\n",
      "\u001b[92mFB4N_L_1: preSynZmax= 7.436182910033069\u001b[0m\n",
      "\u001b[92mFB3C_L_2: preSynZmax= 11.820112124897005\u001b[0m\n",
      "\u001b[92mFB3C_L_1: preSynZmax= 8.864389264671626\u001b[0m\n",
      "\u001b[92mFB4C(NO2)_L_1: preSynZmax= 5.818816358618838\u001b[0m\n",
      "No. of HashIDs= 16\n",
      "No. of names= 16\n",
      "No. of preSynapses= 6586\n",
      "No. of postSynapses= 6765\n",
      "Elapsed time: 172.76 seconds\n",
      "Avg. time per synapse: 0.0129 seconds\n",
      "Avg. time per neuron: 10.7978 seconds\n"
     ]
    }
   ],
   "source": [
    "# timer\n",
    "start_time = time.time()\n",
    "\n",
    "neurons = my_client.NLP_result.neurons\n",
    "\n",
    "hashids = list(neurons.keys())\n",
    "names = [neurons[k]['uname'] for k in neurons]\n",
    "\n",
    "preSynapses = []\n",
    "postSynapses = []\n",
    "\n",
    "for i, hashid in enumerate(hashids):\n",
    "    res = my_client.getInfo(hashid)\n",
    "    data = res[\"data\"]\n",
    "\n",
    "    if \"connectivity\" in data:\n",
    "        presyn = data[\"connectivity\"][\"pre\"][\"details\"]\n",
    "        postsyn = data[\"connectivity\"][\"post\"][\"details\"]\n",
    "        \n",
    "        for syn in presyn:\n",
    "            if 'segment' not in syn[\"uname\"]:\n",
    "                preSynapses.append([\"pre\", syn[\"syn_uname\"], names[i], syn[\"uname\"], syn[\"s_rid\"], syn[\"number\"], True])\n",
    "\n",
    "        for syn in postsyn:\n",
    "            if 'segment' not in syn[\"uname\"]:\n",
    "                postSynapses.append([\"post\", syn[\"syn_uname\"], names[i], syn[\"uname\"], syn[\"s_rid\"], syn[\"number\"], True])\n",
    "\n",
    "connectivity = {\"hashids\": hashids, \"names\": names, \"preSynapses\": preSynapses, \"postSynapses\": postSynapses}\n",
    "\n",
    "postSynNumberDict = {}\n",
    "preSynNumberDict = {}\n",
    "\n",
    "def process_synapses(synapses, synNumberDict, synType):\n",
    "    for neuronName in connectivity['names']:\n",
    "        singleNeuron_synNumber = []\n",
    "        singleNeuron_synData = []\n",
    "        for syn in synapses:\n",
    "            if neuronName == syn[2]:\n",
    "                singleNeuron_synNumber.append(syn[5])\n",
    "                singleNeuron_synData.append([syn[3], syn[4], syn[5]])\n",
    "\n",
    "        synZscore = stats.zscore(singleNeuron_synNumber)\n",
    "        isnan = np.isnan(synZscore)\n",
    "\n",
    "        if not np.any(isnan):\n",
    "            synZmax = max(synZscore)\n",
    "            print(f'\\033[92m{neuronName}: {synType}SynZmax= {synZmax}\\033[0m')\n",
    "        else:\n",
    "            for syn in synapses:\n",
    "                if neuronName == syn[2]:\n",
    "                    syn[6] = False\n",
    "            print(f'\\033[93m{neuronName} Error: Nan Value Found in array\\033[0m')\n",
    "            continue\n",
    "\n",
    "        for r in range(len(singleNeuron_synData)):\n",
    "            syn_uname = singleNeuron_synData[r][0]\n",
    "            if 'segment' not in syn_uname:\n",
    "                syn_rid = singleNeuron_synData[r][1]\n",
    "                normSynZ = 1 - ((synZmax - synZscore[r]) / synZmax)\n",
    "                synNumberDict[syn_rid] = [syn_uname, synZscore[r], normSynZ]\n",
    "\n",
    "process_synapses(postSynapses, postSynNumberDict, \"post\")\n",
    "process_synapses(preSynapses, preSynNumberDict, \"pre\")\n",
    "\n",
    "numberOfNodes = len(names)\n",
    "\n",
    "# End the timer\n",
    "end_time = time.time()\n",
    "\n",
    "# Calculate the elapsed time\n",
    "elapsed_time = end_time - start_time\n",
    "avSynCalc_time = elapsed_time / (len(preSynapses) + len(postSynapses))\n",
    "avNeuronCalc_time = elapsed_time / numberOfNodes\n",
    "\n",
    "print (\"No. of HashIDs= \" + str( len(hashids)))\n",
    "print (\"No. of names= \" + str( numberOfNodes ))\n",
    "print (\"No. of preSynapses= \" + str( len(preSynapses)))\n",
    "print (\"No. of postSynapses= \" + str( len(postSynapses)))\n",
    "print(f\"Elapsed time: {elapsed_time:.2f} seconds\")\n",
    "print(f\"Avg. time per synapse: {avSynCalc_time:.4f} seconds\")\n",
    "print(f\"Avg. time per neuron: {avNeuronCalc_time:.4f} seconds\")"
   ]
  },
  {
   "cell_type": "code",
   "execution_count": 43,
   "id": "03423097-6d48-4af6-90cc-642b2b36a7be",
   "metadata": {},
   "outputs": [],
   "source": [
    "#output to CSV if needed\n",
    "with open('preOutput.csv','w', newline='') as f:\n",
    "    writer = csv.writer(f)\n",
    "    writer.writerow(['type','syn_name','uname','s_rid','hashid','number'])\n",
    "    writer.writerows(preSynapses)\n"
   ]
  },
  {
   "cell_type": "code",
   "execution_count": 44,
   "id": "e991b9fa-befa-4211-99d7-b8c1c536b92b",
   "metadata": {},
   "outputs": [],
   "source": [
    "with open('postOutput.csv','w', newline='') as f:\n",
    "    writer = csv.writer(f)\n",
    "    writer.writerow(['type','syn_name','uname','s_rid','hashid','number'])\n",
    "    writer.writerows(postSynapses)"
   ]
  },
  {
   "cell_type": "code",
   "execution_count": 45,
   "id": "73dcd9a7-6b06-47ad-89ba-63ae0e0b5acf",
   "metadata": {},
   "outputs": [],
   "source": [
    "res = my_client.getConnectivity()\n",
    "nodes = dict(res.graph.nodes(data=True))\n",
    "edges = list(res.graph.edges(data=True))\n",
    "\n",
    "#sample outputs \n",
    "#print(edges)\n",
    "#print(edges[0][0])\n",
    "#display(JSON(nodes))\n",
    "#print(edges)\n"
   ]
  },
  {
   "cell_type": "code",
   "execution_count": 46,
   "id": "eaf50a12-3adc-4367-8929-cbb677e94c6c",
   "metadata": {},
   "outputs": [
    {
     "data": {
      "application/json": {
       "#1018:36412": {
        "N": 40,
        "NHP": 28,
        "class": "Synapse",
        "in_Owns": [
         "#3176:43463"
        ],
        "in_SendsTo": [
         "#3178:72824"
        ],
        "name": "FB3E--FB4N",
        "out_HasData": [
         "#3254:80862",
         "#3255:80862"
        ],
        "out_SendsTo": [
         "#3179:72824"
        ],
        "uname": "FB3E_L_1--FB4N_R_1"
       },
       "#1018:36996": {
        "N": 15,
        "NHP": 4,
        "class": "Synapse",
        "in_Owns": [
         "#3176:44046"
        ],
        "in_SendsTo": [
         "#3178:73992"
        ],
        "name": "FB4C--FB4N",
        "out_HasData": [
         "#3254:82030",
         "#3255:82030"
        ],
        "out_SendsTo": [
         "#3179:73992"
        ],
        "uname": "FB4C(NO2)_R_1--FB4N_R_1"
       },
       "#1018:86441": {
        "N": 3,
        "NHP": 2,
        "class": "Synapse",
        "in_Owns": [
         "#3176:93518"
        ],
        "in_SendsTo": [
         "#3178:172882"
        ],
        "name": "FB3C--FB3E",
        "out_HasData": [
         "#3254:180920",
         "#3255:180920"
        ],
        "out_SendsTo": [
         "#3179:172882"
        ],
        "uname": "FB3C_R_2--FB3E_R_1"
       },
       "#1018:87099": {
        "N": 1,
        "NHP": 0,
        "class": "Synapse",
        "in_Owns": [
         "#3176:94152"
        ],
        "in_SendsTo": [
         "#3178:174198"
        ],
        "name": "FB3C--FB3E",
        "out_HasData": [
         "#3254:182236",
         "#3255:182236"
        ],
        "out_SendsTo": [
         "#3179:174198"
        ],
        "uname": "FB3C_L_3--FB3E_L_1"
       },
       "#1019:83556": {
        "N": 38,
        "NHP": 32,
        "class": "Synapse",
        "in_Owns": [
         "#3177:90611"
        ],
        "in_SendsTo": [
         "#3180:167112"
        ],
        "name": "FB3C--FB4N",
        "out_HasData": [
         "#3256:175150",
         "#3257:175150"
        ],
        "out_SendsTo": [
         "#3181:167112"
        ],
        "uname": "FB3C_L_1--FB4N_L_1"
       },
       "#1019:84870": {
        "N": 8,
        "NHP": 6,
        "class": "Synapse",
        "in_Owns": [
         "#3177:91922"
        ],
        "in_SendsTo": [
         "#3180:169740"
        ],
        "name": "FB3C--PFR_b",
        "out_HasData": [
         "#3256:177778",
         "#3257:177778"
        ],
        "out_SendsTo": [
         "#3181:169740"
        ],
        "uname": "FB3C_R_4--PFR_b(PB11b)_R1_C8_1"
       },
       "#1019:84871": {
        "N": 2,
        "NHP": 1,
        "class": "Synapse",
        "in_Owns": [
         "#3177:91921"
        ],
        "in_SendsTo": [
         "#3180:169742"
        ],
        "name": "FB3C--FB3E",
        "out_HasData": [
         "#3256:177780",
         "#3257:177780"
        ],
        "out_SendsTo": [
         "#3181:169742"
        ],
        "uname": "FB3C_R_4--FB3E_L_1"
       },
       "#1019:86564": {
        "N": 3,
        "NHP": 1,
        "class": "Synapse",
        "in_Owns": [
         "#3177:93645"
        ],
        "in_SendsTo": [
         "#3180:173128"
        ],
        "name": "FB3C--FB3C",
        "out_HasData": [
         "#3256:181166",
         "#3257:181166"
        ],
        "out_SendsTo": [
         "#3181:173128"
        ],
        "uname": "FB3C_L_2--FB3C_R_2"
       },
       "#1020:86566": {
        "N": 3,
        "NHP": 1,
        "class": "Synapse",
        "in_Owns": [
         "#3130:93644"
        ],
        "in_SendsTo": [
         "#3182:173132"
        ],
        "name": "FB3C--FB3C",
        "out_HasData": [
         "#3258:181170",
         "#3259:181170"
        ],
        "out_SendsTo": [
         "#3183:173132"
        ],
        "uname": "FB3C_L_2--FB3C_L_4"
       },
       "#1021:34075": {
        "N": 37,
        "NHP": 29,
        "class": "Synapse",
        "in_Owns": [
         "#3131:41135"
        ],
        "in_SendsTo": [
         "#3184:68150"
        ],
        "name": "FB3E--FB4N",
        "out_HasData": [
         "#3260:76188",
         "#3261:76188"
        ],
        "out_SendsTo": [
         "#3185:68150"
        ],
        "uname": "FB3E_R_1--FB4N_R_1"
       },
       "#1021:34076": {
        "N": 40,
        "NHP": 28,
        "class": "Synapse",
        "in_Owns": [
         "#3131:41134"
        ],
        "in_SendsTo": [
         "#3184:68152"
        ],
        "name": "FB3E--FB4N",
        "out_HasData": [
         "#3260:76190",
         "#3261:76190"
        ],
        "out_SendsTo": [
         "#3185:68152"
        ],
        "uname": "FB3E_R_1--FB4N_L_1"
       },
       "#1021:37005": {
        "N": 1,
        "NHP": 1,
        "class": "Synapse",
        "in_Owns": [
         "#3131:44079"
        ],
        "in_SendsTo": [
         "#3184:74010"
        ],
        "name": "FB4C--FB3C",
        "out_HasData": [
         "#3260:82048",
         "#3261:82048"
        ],
        "out_SendsTo": [
         "#3185:74010"
        ],
        "uname": "FB4C(NO2)_R_1--FB3C_L_4"
       },
       "#1022:34081": {
        "N": 1,
        "NHP": 1,
        "class": "Synapse",
        "in_Owns": [
         "#3132:41129"
        ],
        "in_SendsTo": [
         "#3186:68162"
        ],
        "name": "FB3E--FB3C",
        "out_HasData": [
         "#3262:76200",
         "#3263:76200"
        ],
        "out_SendsTo": [
         "#3187:68162"
        ],
        "uname": "FB3E_R_1--FB3C_R_4"
       },
       "#1022:36413": {
        "N": 2,
        "NHP": 0,
        "class": "Synapse",
        "in_Owns": [
         "#3132:43463"
        ],
        "in_SendsTo": [
         "#3186:72826"
        ],
        "name": "FB3E--FB3C",
        "out_HasData": [
         "#3262:80864",
         "#3263:80864"
        ],
        "out_SendsTo": [
         "#3187:72826"
        ],
        "uname": "FB3E_L_1--FB3C_L_2"
       },
       "#1022:36993": {
        "N": 9,
        "NHP": 6,
        "class": "Synapse",
        "in_Owns": [
         "#3132:44050"
        ],
        "in_SendsTo": [
         "#3186:73986"
        ],
        "name": "FB4C--FB1G",
        "out_HasData": [
         "#3262:82024",
         "#3263:82024"
        ],
        "out_SendsTo": [
         "#3187:73986"
        ],
        "uname": "FB4C(NO2)_R_1--FB1G_R_1"
       },
       "#1022:36995": {
        "N": 15,
        "NHP": 5,
        "class": "Synapse",
        "in_Owns": [
         "#3132:44048"
        ],
        "in_SendsTo": [
         "#3186:73990"
        ],
        "name": "FB4C--FB4N",
        "out_HasData": [
         "#3262:82028",
         "#3263:82028"
        ],
        "out_SendsTo": [
         "#3187:73990"
        ],
        "uname": "FB4C(NO2)_R_1--FB4N_L_1"
       },
       "#1022:86446": {
        "N": 2,
        "NHP": 0,
        "class": "Synapse",
        "in_Owns": [
         "#3132:93514"
        ],
        "in_SendsTo": [
         "#3186:172892"
        ],
        "name": "FB3C--FB3E",
        "out_HasData": [
         "#3262:180930",
         "#3263:180930"
        ],
        "out_SendsTo": [
         "#3187:172892"
        ],
        "uname": "FB3C_R_2--FB3E_L_1"
       },
       "#1023:36412": {
        "N": 5,
        "NHP": 0,
        "class": "Synapse",
        "in_Owns": [
         "#3133:43464"
        ],
        "in_SendsTo": [
         "#3188:72824"
        ],
        "name": "FB3E--FB1G",
        "out_HasData": [
         "#3264:80862",
         "#3265:80862"
        ],
        "out_SendsTo": [
         "#3189:72824"
        ],
        "uname": "FB3E_L_1--FB1G_R_1"
       },
       "#1023:36414": {
        "N": 1,
        "NHP": 0,
        "class": "Synapse",
        "in_Owns": [
         "#3133:43462"
        ],
        "in_SendsTo": [
         "#3188:72828"
        ],
        "name": "FB3E--FB3C",
        "out_HasData": [
         "#3264:80866",
         "#3265:80866"
        ],
        "out_SendsTo": [
         "#3189:72828"
        ],
        "uname": "FB3E_L_1--FB3C_L_1"
       },
       "#1023:38560": {
        "N": 2,
        "NHP": 0,
        "class": "Synapse",
        "in_Owns": [
         "#3133:45608"
        ],
        "in_SendsTo": [
         "#3188:77120"
        ],
        "name": "FB4C--FB3E",
        "out_HasData": [
         "#3264:85158",
         "#3265:85158"
        ],
        "out_SendsTo": [
         "#3189:77120"
        ],
        "uname": "FB4C(NO2)_L_1--FB3E_R_1"
       },
       "#1023:86564": {
        "N": 4,
        "NHP": 1,
        "class": "Synapse",
        "in_Owns": [
         "#3133:93646"
        ],
        "in_SendsTo": [
         "#3188:173128"
        ],
        "name": "FB3C--FB3C",
        "out_HasData": [
         "#3264:181166",
         "#3265:181166"
        ],
        "out_SendsTo": [
         "#3189:173128"
        ],
        "uname": "FB3C_L_2--FB3C_L_3"
       },
       "#1023:86567": {
        "N": 7,
        "NHP": 3,
        "class": "Synapse",
        "in_Owns": [
         "#3133:93643"
        ],
        "in_SendsTo": [
         "#3188:173134"
        ],
        "name": "FB3C--PFR_b",
        "out_HasData": [
         "#3264:181172",
         "#3265:181172"
        ],
        "out_SendsTo": [
         "#3189:173134"
        ],
        "uname": "FB3C_L_2--PFR_b(PB11b)_R1_C8_1"
       },
       "#1023:87099": {
        "N": 1,
        "NHP": 0,
        "class": "Synapse",
        "in_Owns": [
         "#3133:94153"
        ],
        "in_SendsTo": [
         "#3188:174198"
        ],
        "name": "FB3C--FB1G",
        "out_HasData": [
         "#3264:182236",
         "#3265:182236"
        ],
        "out_SendsTo": [
         "#3189:174198"
        ],
        "uname": "FB3C_L_3--FB1G_R_1"
       },
       "#1023:87618": {
        "N": 1,
        "NHP": 1,
        "class": "Synapse",
        "in_Owns": [
         "#3133:94675"
        ],
        "in_SendsTo": [
         "#3188:175236"
        ],
        "name": "FC1F--FB3C",
        "out_HasData": [
         "#3264:183274",
         "#3265:183274"
        ],
        "out_SendsTo": [
         "#3189:175236"
        ],
        "uname": "FC1F(FQ6)_C3_L_1--FB3C_L_1"
       },
       "#1025:59852": {
        "N": 2,
        "NHP": 0,
        "class": "Synapse",
        "in_Owns": [
         "#3135:66900"
        ],
        "in_SendsTo": [
         "#3192:119704"
        ],
        "name": "FB4N--FB3E",
        "out_HasData": [
         "#3268:127742",
         "#3269:127742"
        ],
        "out_SendsTo": [
         "#3193:119704"
        ],
        "uname": "FB4N_L_1--FB3E_L_1"
       },
       "#1025:84866": {
        "N": 6,
        "NHP": 0,
        "class": "Synapse",
        "in_Owns": [
         "#3135:91927"
        ],
        "in_SendsTo": [
         "#3192:169732"
        ],
        "name": "FB3C--FB3C",
        "out_HasData": [
         "#3268:177770",
         "#3269:177770"
        ],
        "out_SendsTo": [
         "#3193:169732"
        ],
        "uname": "FB3C_R_4--FB3C_L_2"
       },
       "#1025:86564": {
        "N": 17,
        "NHP": 11,
        "class": "Synapse",
        "in_Owns": [
         "#3135:93646"
        ],
        "in_SendsTo": [
         "#3192:173128"
        ],
        "name": "FB3C--FB4C",
        "out_HasData": [
         "#3268:181166",
         "#3269:181166"
        ],
        "out_SendsTo": [
         "#3193:173128"
        ],
        "uname": "FB3C_L_2--FB4C(NO2)_L_1"
       },
       "#1025:87095": {
        "N": 49,
        "NHP": 44,
        "class": "Synapse",
        "in_Owns": [
         "#3135:94157"
        ],
        "in_SendsTo": [
         "#3192:174190"
        ],
        "name": "FB3C--FB4N",
        "out_HasData": [
         "#3268:182228",
         "#3269:182228"
        ],
        "out_SendsTo": [
         "#3193:174190"
        ],
        "uname": "FB3C_L_3--FB4N_L_1"
       },
       "#1026:38553": {
        "N": 5,
        "NHP": 2,
        "class": "Synapse",
        "in_Owns": [
         "#3136:45615"
        ],
        "in_SendsTo": [
         "#3194:77106"
        ],
        "name": "FB4C--FB3C",
        "out_HasData": [
         "#3270:85144",
         "#3271:85144"
        ],
        "out_SendsTo": [
         "#3195:77106"
        ],
        "uname": "FB4C(NO2)_L_1--FB3C_L_1"
       },
       "#1026:59843": {
        "N": 39,
        "NHP": 16,
        "class": "Synapse",
        "in_Owns": [
         "#3136:66908"
        ],
        "in_SendsTo": [
         "#3194:119686"
        ],
        "name": "FB4N--FB4C",
        "out_HasData": [
         "#3270:127724",
         "#3271:127724"
        ],
        "out_SendsTo": [
         "#3195:119686"
        ],
        "uname": "FB4N_L_1--FB4C(NO2)_L_1"
       },
       "#1026:61187": {
        "N": 41,
        "NHP": 33,
        "class": "Synapse",
        "in_Owns": [
         "#3136:68231"
        ],
        "in_SendsTo": [
         "#3194:122374"
        ],
        "name": "FB3C--FB4N",
        "out_HasData": [
         "#3270:130412",
         "#3271:130412"
        ],
        "out_SendsTo": [
         "#3195:122374"
        ],
        "uname": "FB3C_L_4--FB4N_L_1"
       },
       "#1026:61188": {
        "N": 32,
        "NHP": 23,
        "class": "Synapse",
        "in_Owns": [
         "#3136:68272"
        ],
        "in_SendsTo": [
         "#3194:122376"
        ],
        "name": "FB3C--FB4N",
        "out_HasData": [
         "#3270:130414",
         "#3271:130414"
        ],
        "out_SendsTo": [
         "#3195:122376"
        ],
        "uname": "FB3C_L_4--FB4N_R_1"
       },
       "#1027:34076": {
        "N": 22,
        "NHP": 17,
        "class": "Synapse",
        "in_Owns": [
         "#3137:41134"
        ],
        "in_SendsTo": [
         "#3196:68152"
        ],
        "name": "FB3E--FB4C",
        "out_HasData": [
         "#3272:76190",
         "#3273:76190"
        ],
        "out_SendsTo": [
         "#3197:68152"
        ],
        "uname": "FB3E_R_1--FB4C(NO2)_L_1"
       },
       "#1027:36415": {
        "N": 1,
        "NHP": 0,
        "class": "Synapse",
        "in_Owns": [
         "#3137:43461"
        ],
        "in_SendsTo": [
         "#3196:72830"
        ],
        "name": "FB3E--FB3C",
        "out_HasData": [
         "#3272:80868",
         "#3273:80868"
        ],
        "out_SendsTo": [
         "#3197:72830"
        ],
        "uname": "FB3E_L_1--FB3C_R_2"
       },
       "#1027:37004": {
        "N": 1,
        "NHP": 1,
        "class": "Synapse",
        "in_Owns": [
         "#3137:44080"
        ],
        "in_SendsTo": [
         "#3196:74008"
        ],
        "name": "FB4C--hDeltaC",
        "out_HasData": [
         "#3272:82046",
         "#3273:82046"
        ],
        "out_SendsTo": [
         "#3197:74008"
        ],
        "uname": "FB4C(NO2)_R_1--hDeltaC_03_C3_2"
       },
       "#1028:59850": {
        "N": 2,
        "NHP": 0,
        "class": "Synapse",
        "in_Owns": [
         "#3138:66901"
        ],
        "in_SendsTo": [
         "#3198:119700"
        ],
        "name": "FB4N--FB3C",
        "out_HasData": [
         "#3226:127739",
         "#3227:127739"
        ],
        "out_SendsTo": [
         "#3199:119700"
        ],
        "uname": "FB4N_L_1--FB3C_R_4"
       },
       "#1028:61191": {
        "N": 3,
        "NHP": 0,
        "class": "Synapse",
        "in_Owns": [
         "#3138:68269"
        ],
        "in_SendsTo": [
         "#3198:122382"
        ],
        "name": "FB3C--FB3C",
        "out_HasData": [
         "#3226:130421",
         "#3227:130421"
        ],
        "out_SendsTo": [
         "#3199:122382"
        ],
        "uname": "FB3C_L_4--FB3C_R_2"
       },
       "#1028:61192": {
        "N": 1,
        "NHP": 1,
        "class": "Synapse",
        "in_Owns": [
         "#3138:68268"
        ],
        "in_SendsTo": [
         "#3198:122384"
        ],
        "name": "FB3C--PFR_b",
        "out_HasData": [
         "#3226:130423",
         "#3227:130423"
        ],
        "out_SendsTo": [
         "#3199:122384"
        ],
        "uname": "FB3C_L_4--PFR_b(PB11b)_R1_C8_1"
       },
       "#1028:84870": {
        "N": 1,
        "NHP": 0,
        "class": "Synapse",
        "in_Owns": [
         "#3138:91922"
        ],
        "in_SendsTo": [
         "#3198:169740"
        ],
        "name": "FB3C--FB3C",
        "out_HasData": [
         "#3226:177779",
         "#3227:177779"
        ],
        "out_SendsTo": [
         "#3199:169740"
        ],
        "uname": "FB3C_R_4--FB3C_L_3"
       },
       "#1028:87620": {
        "N": 1,
        "NHP": 1,
        "class": "Synapse",
        "in_Owns": [
         "#3138:94672"
        ],
        "in_SendsTo": [
         "#3198:175240"
        ],
        "name": "FC1F--FB4C",
        "out_HasData": [
         "#3226:183279",
         "#3227:183279"
        ],
        "out_SendsTo": [
         "#3199:175240"
        ],
        "uname": "FC1F(FQ6)_C3_L_1--FB4C(NO2)_L_1"
       },
       "#1029:83556": {
        "N": 43,
        "NHP": 33,
        "class": "Synapse",
        "in_Owns": [
         "#3139:90612"
        ],
        "in_SendsTo": [
         "#3200:167112"
        ],
        "name": "FB3C--FB4N",
        "out_HasData": [
         "#3228:175151",
         "#3229:175151"
        ],
        "out_SendsTo": [
         "#3201:167112"
        ],
        "uname": "FB3C_L_1--FB4N_R_1"
       },
       "#1029:87095": {
        "N": 34,
        "NHP": 30,
        "class": "Synapse",
        "in_Owns": [
         "#3139:94156"
        ],
        "in_SendsTo": [
         "#3200:174190"
        ],
        "name": "FB3C--FB4N",
        "out_HasData": [
         "#3228:182229",
         "#3229:182229"
        ],
        "out_SendsTo": [
         "#3201:174190"
        ],
        "uname": "FB3C_L_3--FB4N_R_1"
       },
       "#1030:34078": {
        "N": 1,
        "NHP": 0,
        "class": "Synapse",
        "in_Owns": [
         "#3140:41132"
        ],
        "in_SendsTo": [
         "#3202:68156"
        ],
        "name": "FB3E--FB3C",
        "out_HasData": [
         "#3230:76195",
         "#3231:76195"
        ],
        "out_SendsTo": [
         "#3203:68156"
        ],
        "uname": "FB3E_R_1--FB3C_R_2"
       },
       "#1030:47648": {
        "N": 49,
        "NHP": 26,
        "class": "Synapse",
        "in_Owns": [
         "#3140:54728"
        ],
        "in_SendsTo": [
         "#3202:95296"
        ],
        "name": "FB1G--FB4C",
        "out_HasData": [
         "#3230:103335",
         "#3231:103335"
        ],
        "out_SendsTo": [
         "#3203:95296"
        ],
        "uname": "FB1G_R_1--FB4C(NO2)_R_1"
       },
       "#1030:59849": {
        "N": 5,
        "NHP": 1,
        "class": "Synapse",
        "in_Owns": [
         "#3140:66902"
        ],
        "in_SendsTo": [
         "#3202:119698"
        ],
        "name": "FB4N--FB3C",
        "out_HasData": [
         "#3230:127737",
         "#3231:127737"
        ],
        "out_SendsTo": [
         "#3203:119698"
        ],
        "uname": "FB4N_L_1--FB3C_R_2"
       },
       "#1030:87096": {
        "N": 9,
        "NHP": 5,
        "class": "Synapse",
        "in_Owns": [
         "#3140:94155"
        ],
        "in_SendsTo": [
         "#3202:174192"
        ],
        "name": "FB3C--FB4C",
        "out_HasData": [
         "#3230:182231",
         "#3231:182231"
        ],
        "out_SendsTo": [
         "#3203:174192"
        ],
        "uname": "FB3C_L_3--FB4C(NO2)_R_1"
       },
       "#1031:36997": {
        "N": 4,
        "NHP": 0,
        "class": "Synapse",
        "in_Owns": [
         "#3141:44045"
        ],
        "in_SendsTo": [
         "#3204:73994"
        ],
        "name": "FB4C--FB3C",
        "out_HasData": [
         "#3232:82033",
         "#3233:82033"
        ],
        "out_SendsTo": [
         "#3205:73994"
        ],
        "uname": "FB4C(NO2)_R_1--FB3C_R_4"
       },
       "#1031:37001": {
        "N": 4,
        "NHP": 4,
        "class": "Synapse",
        "in_Owns": [
         "#3141:44083"
        ],
        "in_SendsTo": [
         "#3204:74002"
        ],
        "name": "FB4C--PFR_b",
        "out_HasData": [
         "#3232:82041",
         "#3233:82041"
        ],
        "out_SendsTo": [
         "#3205:74002"
        ],
        "uname": "FB4C(NO2)_R_1--PFR_b(PB11b)_R1_C8_1"
       },
       "#1031:84866": {
        "N": 15,
        "NHP": 12,
        "class": "Synapse",
        "in_Owns": [
         "#3141:91926"
        ],
        "in_SendsTo": [
         "#3204:169732"
        ],
        "name": "FB3C--FB4C",
        "out_HasData": [
         "#3232:177771",
         "#3233:177771"
        ],
        "out_SendsTo": [
         "#3205:169732"
        ],
        "uname": "FB3C_R_4--FB4C(NO2)_L_1"
       },
       "#1031:86569": {
        "N": 2,
        "NHP": 1,
        "class": "Synapse",
        "in_Owns": [
         "#3141:93641"
        ],
        "in_SendsTo": [
         "#3204:173138"
        ],
        "name": "FB3C--FB3C",
        "out_HasData": [
         "#3232:181177",
         "#3233:181177"
        ],
        "out_SendsTo": [
         "#3205:173138"
        ],
        "uname": "FB3C_L_2--FB3C_L_1"
       },
       "#1031:87618": {
        "N": 1,
        "NHP": 1,
        "class": "Synapse",
        "in_Owns": [
         "#3141:94674"
        ],
        "in_SendsTo": [
         "#3204:175236"
        ],
        "name": "FC1F--FB3C",
        "out_HasData": [
         "#3232:183275",
         "#3233:183275"
        ],
        "out_SendsTo": [
         "#3205:175236"
        ],
        "uname": "FC1F(FQ6)_C3_L_1--FB3C_L_3"
       },
       "#1032:36995": {
        "N": 2,
        "NHP": 1,
        "class": "Synapse",
        "in_Owns": [
         "#3142:44047"
        ],
        "in_SendsTo": [
         "#3206:73990"
        ],
        "name": "FB4C--FB4C",
        "out_HasData": [
         "#3234:82029",
         "#3235:82029"
        ],
        "out_SendsTo": [
         "#3207:73990"
        ],
        "uname": "FB4C(NO2)_R_1--FB4C(NO2)_L_1"
       },
       "#1032:47648": {
        "N": 59,
        "NHP": 39,
        "class": "Synapse",
        "in_Owns": [
         "#3142:54728"
        ],
        "in_SendsTo": [
         "#3206:95296"
        ],
        "name": "FB1G--FB3C",
        "out_HasData": [
         "#3234:103335",
         "#3235:103335"
        ],
        "out_SendsTo": [
         "#3207:95296"
        ],
        "uname": "FB1G_R_1--FB3C_L_2"
       },
       "#1032:58980": {
        "N": 8,
        "NHP": 3,
        "class": "Synapse",
        "in_Owns": [
         "#3142:66062"
        ],
        "in_SendsTo": [
         "#3206:117960"
        ],
        "name": "FB4N--FB4N",
        "out_HasData": [
         "#3234:125999",
         "#3235:125999"
        ],
        "out_SendsTo": [
         "#3207:117960"
        ],
        "uname": "FB4N_R_1--FB4N_L_1"
       },
       "#1032:86442": {
        "N": 5,
        "NHP": 4,
        "class": "Synapse",
        "in_Owns": [
         "#3142:93518"
        ],
        "in_SendsTo": [
         "#3206:172884"
        ],
        "name": "FB3C--FC1F",
        "out_HasData": [
         "#3234:180923",
         "#3235:180923"
        ],
        "out_SendsTo": [
         "#3207:172884"
        ],
        "uname": "FB3C_R_2--FC1F(FQ6)_C3_L_1"
       },
       "#1032:87097": {
        "N": 3,
        "NHP": 1,
        "class": "Synapse",
        "in_Owns": [
         "#3142:94154"
        ],
        "in_SendsTo": [
         "#3206:174194"
        ],
        "name": "FB3C--FC1F",
        "out_HasData": [
         "#3234:182233",
         "#3235:182233"
        ],
        "out_SendsTo": [
         "#3207:174194"
        ],
        "uname": "FB3C_L_3--FC1F(FQ6)_C3_L_1"
       },
       "#1032:87618": {
        "N": 1,
        "NHP": 1,
        "class": "Synapse",
        "in_Owns": [
         "#3142:94674"
        ],
        "in_SendsTo": [
         "#3206:175236"
        ],
        "name": "FC1F--FB3E",
        "out_HasData": [
         "#3234:183275",
         "#3235:183275"
        ],
        "out_SendsTo": [
         "#3207:175236"
        ],
        "uname": "FC1F(FQ6)_C3_L_1--FB3E_R_1"
       },
       "#1033:34077": {
        "N": 1,
        "NHP": 0,
        "class": "Synapse",
        "in_Owns": [
         "#3143:41133"
        ],
        "in_SendsTo": [
         "#3208:68154"
        ],
        "name": "FB3E--FB3C",
        "out_HasData": [
         "#3236:76193",
         "#3237:76193"
        ],
        "out_SendsTo": [
         "#3209:68154"
        ],
        "uname": "FB3E_R_1--FB3C_L_1"
       },
       "#1033:47648": {
        "N": 46,
        "NHP": 30,
        "class": "Synapse",
        "in_Owns": [
         "#3143:54728"
        ],
        "in_SendsTo": [
         "#3208:95296"
        ],
        "name": "FB1G--FB3C",
        "out_HasData": [
         "#3236:103335",
         "#3237:103335"
        ],
        "out_SendsTo": [
         "#3209:95296"
        ],
        "uname": "FB1G_R_1--FB3C_L_3"
       },
       "#1033:86444": {
        "N": 4,
        "NHP": 2,
        "class": "Synapse",
        "in_Owns": [
         "#3143:93516"
        ],
        "in_SendsTo": [
         "#3208:172888"
        ],
        "name": "FB3C--PFR_b",
        "out_HasData": [
         "#3236:180927",
         "#3237:180927"
        ],
        "out_SendsTo": [
         "#3209:172888"
        ],
        "uname": "FB3C_R_2--PFR_b(PB11b)_R1_C8_1"
       },
       "#1033:87097": {
        "N": 1,
        "NHP": 1,
        "class": "Synapse",
        "in_Owns": [
         "#3143:94154"
        ],
        "in_SendsTo": [
         "#3208:174194"
        ],
        "name": "FB3C--FB3C",
        "out_HasData": [
         "#3236:182233",
         "#3237:182233"
        ],
        "out_SendsTo": [
         "#3209:174194"
        ],
        "uname": "FB3C_L_3--FB3C_L_1"
       },
       "#1034:36412": {
        "N": 21,
        "NHP": 9,
        "class": "Synapse",
        "in_Owns": [
         "#3144:43464"
        ],
        "in_SendsTo": [
         "#3210:72824"
        ],
        "name": "FB3E--FB4C",
        "out_HasData": [
         "#3238:80863",
         "#3239:80863"
        ],
        "out_SendsTo": [
         "#3211:72824"
        ],
        "uname": "FB3E_L_1--FB4C(NO2)_R_1"
       },
       "#1034:47650": {
        "N": 40,
        "NHP": 25,
        "class": "Synapse",
        "in_Owns": [
         "#3144:54726"
        ],
        "in_SendsTo": [
         "#3210:95300"
        ],
        "name": "FB1G--FB3E",
        "out_HasData": [
         "#3238:103339",
         "#3239:103339"
        ],
        "out_SendsTo": [
         "#3211:95300"
        ],
        "uname": "FB1G_R_1--FB3E_R_1"
       },
       "#1034:83559": {
        "N": 4,
        "NHP": 2,
        "class": "Synapse",
        "in_Owns": [
         "#3144:90609"
        ],
        "in_SendsTo": [
         "#3210:167118"
        ],
        "name": "FB3C--FC1F",
        "out_HasData": [
         "#3238:175157",
         "#3239:175157"
        ],
        "out_SendsTo": [
         "#3211:167118"
        ],
        "uname": "FB3C_L_1--FC1F(FQ6)_C3_L_1"
       },
       "#1034:86439": {
        "N": 1,
        "NHP": 0,
        "class": "Synapse",
        "in_Owns": [
         "#3144:93520"
        ],
        "in_SendsTo": [
         "#3210:172878"
        ],
        "name": "FB3C--FB3C",
        "out_HasData": [
         "#3238:180917",
         "#3239:180917"
        ],
        "out_SendsTo": [
         "#3211:172878"
        ],
        "uname": "FB3C_R_2--FB3C_L_2"
       },
       "#1034:86567": {
        "N": 6,
        "NHP": 3,
        "class": "Synapse",
        "in_Owns": [
         "#3144:93642"
        ],
        "in_SendsTo": [
         "#3210:173134"
        ],
        "name": "FB3C--FC1F",
        "out_HasData": [
         "#3238:181173",
         "#3239:181173"
        ],
        "out_SendsTo": [
         "#3211:173134"
        ],
        "uname": "FB3C_L_2--FC1F(FQ6)_C3_L_1"
       },
       "#1034:87099": {
        "N": 6,
        "NHP": 3,
        "class": "Synapse",
        "in_Owns": [
         "#3144:94151"
        ],
        "in_SendsTo": [
         "#3210:174198"
        ],
        "name": "FB3C--PFR_b",
        "out_HasData": [
         "#3238:182237",
         "#3239:182237"
        ],
        "out_SendsTo": [
         "#3211:174198"
        ],
        "uname": "FB3C_L_3--PFR_b(PB11b)_R1_C8_1"
       },
       "#1035:34080": {
        "N": 1,
        "NHP": 0,
        "class": "Synapse",
        "in_Owns": [
         "#3145:41129"
        ],
        "in_SendsTo": [
         "#3212:68160"
        ],
        "name": "FB3E--FB1G",
        "out_HasData": [
         "#3240:76199",
         "#3241:76199"
        ],
        "out_SendsTo": [
         "#3213:68160"
        ],
        "uname": "FB3E_R_1--FB1G_R_1"
       },
       "#1035:36413": {
        "N": 20,
        "NHP": 14,
        "class": "Synapse",
        "in_Owns": [
         "#3145:43463"
        ],
        "in_SendsTo": [
         "#3212:72826"
        ],
        "name": "FB3E--FB4C",
        "out_HasData": [
         "#3240:80865",
         "#3241:80865"
        ],
        "out_SendsTo": [
         "#3213:72826"
        ],
        "uname": "FB3E_L_1--FB4C(NO2)_L_1"
       },
       "#1035:36418": {
        "N": 1,
        "NHP": 0,
        "class": "Synapse",
        "in_Owns": [
         "#3145:43500"
        ],
        "in_SendsTo": [
         "#3212:72836"
        ],
        "name": "FB3E--FB3C",
        "out_HasData": [
         "#3240:80875",
         "#3241:80875"
        ],
        "out_SendsTo": [
         "#3213:72836"
        ],
        "uname": "FB3E_L_1--FB3C_L_3"
       },
       "#1035:38554": {
        "N": 20,
        "NHP": 10,
        "class": "Synapse",
        "in_Owns": [
         "#3145:45614"
        ],
        "in_SendsTo": [
         "#3212:77108"
        ],
        "name": "FB4C--FB4N",
        "out_HasData": [
         "#3240:85147",
         "#3241:85147"
        ],
        "out_SendsTo": [
         "#3213:77108"
        ],
        "uname": "FB4C(NO2)_L_1--FB4N_R_1"
       },
       "#1035:38558": {
        "N": 4,
        "NHP": 3,
        "class": "Synapse",
        "in_Owns": [
         "#3145:45610"
        ],
        "in_SendsTo": [
         "#3212:77116"
        ],
        "name": "FB4C--FB1G",
        "out_HasData": [
         "#3240:85155",
         "#3241:85155"
        ],
        "out_SendsTo": [
         "#3213:77116"
        ],
        "uname": "FB4C(NO2)_L_1--FB1G_R_1"
       },
       "#1035:47648": {
        "N": 43,
        "NHP": 28,
        "class": "Synapse",
        "in_Owns": [
         "#3145:54728"
        ],
        "in_SendsTo": [
         "#3212:95296"
        ],
        "name": "FB1G--FB4N",
        "out_HasData": [
         "#3240:103335",
         "#3241:103335"
        ],
        "out_SendsTo": [
         "#3213:95296"
        ],
        "uname": "FB1G_R_1--FB4N_L_1"
       },
       "#1035:74435": {
        "N": 1,
        "NHP": 0,
        "class": "Synapse",
        "in_Owns": [
         "#3145:81483"
        ],
        "in_SendsTo": [
         "#3212:148870"
        ],
        "name": "hDeltaC--FB4C",
        "out_HasData": [
         "#3240:156909",
         "#3241:156909"
        ],
        "out_SendsTo": [
         "#3213:148870"
        ],
        "uname": "hDeltaC_03_C3_2--FB4C(NO2)_L_1"
       },
       "#1035:86439": {
        "N": 43,
        "NHP": 36,
        "class": "Synapse",
        "in_Owns": [
         "#3145:93520"
        ],
        "in_SendsTo": [
         "#3212:172878"
        ],
        "name": "FB3C--FB4N",
        "out_HasData": [
         "#3240:180917",
         "#3241:180917"
        ],
        "out_SendsTo": [
         "#3213:172878"
        ],
        "uname": "FB3C_R_2--FB4N_L_1"
       },
       "#1035:86568": {
        "N": 5,
        "NHP": 1,
        "class": "Synapse",
        "in_Owns": [
         "#3145:93641"
        ],
        "in_SendsTo": [
         "#3212:173136"
        ],
        "name": "FB3C--FB3E",
        "out_HasData": [
         "#3240:181175",
         "#3241:181175"
        ],
        "out_SendsTo": [
         "#3213:173136"
        ],
        "uname": "FB3C_L_2--FB3E_R_1"
       },
       "#1036:34080": {
        "N": 1,
        "NHP": 0,
        "class": "Synapse",
        "in_Owns": [
         "#3146:41129"
        ],
        "in_SendsTo": [
         "#3214:68160"
        ],
        "name": "FB3E--FB3C",
        "out_HasData": [
         "#3242:76199",
         "#3243:76199"
        ],
        "out_SendsTo": [
         "#3215:68160"
        ],
        "uname": "FB3E_R_1--FB3C_L_3"
       },
       "#1036:58978": {
        "N": 32,
        "NHP": 13,
        "class": "Synapse",
        "in_Owns": [
         "#3146:66022"
        ],
        "in_SendsTo": [
         "#3214:117956"
        ],
        "name": "FB4N--FB4C",
        "out_HasData": [
         "#3242:125995",
         "#3243:125995"
        ],
        "out_SendsTo": [
         "#3215:117956"
        ],
        "uname": "FB4N_R_1--FB4C(NO2)_R_1"
       },
       "#1036:58983": {
        "N": 3,
        "NHP": 1,
        "class": "Synapse",
        "in_Owns": [
         "#3146:66059"
        ],
        "in_SendsTo": [
         "#3214:117966"
        ],
        "name": "FB4N--FB3C",
        "out_HasData": [
         "#3242:126005",
         "#3243:126005"
        ],
        "out_SendsTo": [
         "#3215:117966"
        ],
        "uname": "FB4N_R_1--FB3C_L_2"
       },
       "#1036:83557": {
        "N": 1,
        "NHP": 0,
        "class": "Synapse",
        "in_Owns": [
         "#3146:90611"
        ],
        "in_SendsTo": [
         "#3214:167114"
        ],
        "name": "FB3C--FB3C",
        "out_HasData": [
         "#3242:175153",
         "#3243:175153"
        ],
        "out_SendsTo": [
         "#3215:167114"
        ],
        "uname": "FB3C_L_1--FB3C_R_2"
       },
       "#1036:84871": {
        "N": 1,
        "NHP": 1,
        "class": "Synapse",
        "in_Owns": [
         "#3146:91921"
        ],
        "in_SendsTo": [
         "#3214:169742"
        ],
        "name": "FB3C--FC1F",
        "out_HasData": [
         "#3242:177781",
         "#3243:177781"
        ],
        "out_SendsTo": [
         "#3215:169742"
        ],
        "uname": "FB3C_R_4--FC1F(FQ6)_C3_L_1"
       },
       "#1037:61188": {
        "N": 1,
        "NHP": 0,
        "class": "Synapse",
        "in_Owns": [
         "#3147:68271"
        ],
        "in_SendsTo": [
         "#3216:122376"
        ],
        "name": "FB3C--FB3C",
        "out_HasData": [
         "#3244:130415",
         "#3245:130415"
        ],
        "out_SendsTo": [
         "#3217:122376"
        ],
        "uname": "FB3C_L_4--FB3C_L_3"
       },
       "#1037:86445": {
        "N": 1,
        "NHP": 1,
        "class": "Synapse",
        "in_Owns": [
         "#3147:93514"
        ],
        "in_SendsTo": [
         "#3216:172890"
        ],
        "name": "FB3C--FB3C",
        "out_HasData": [
         "#3244:180929",
         "#3245:180929"
        ],
        "out_SendsTo": [
         "#3217:172890"
        ],
        "uname": "FB3C_R_2--FB3C_L_4"
       },
       "#1038:36412": {
        "N": 46,
        "NHP": 35,
        "class": "Synapse",
        "in_Owns": [
         "#3148:43464"
        ],
        "in_SendsTo": [
         "#3218:72824"
        ],
        "name": "FB3E--FB4N",
        "out_HasData": [
         "#3246:80863",
         "#3247:80863"
        ],
        "out_SendsTo": [
         "#3219:72824"
        ],
        "uname": "FB3E_L_1--FB4N_L_1"
       },
       "#1038:47648": {
        "N": 57,
        "NHP": 35,
        "class": "Synapse",
        "in_Owns": [
         "#3148:54728"
        ],
        "in_SendsTo": [
         "#3218:95296"
        ],
        "name": "FB1G--FB3E",
        "out_HasData": [
         "#3246:103335",
         "#3247:103335"
        ],
        "out_SendsTo": [
         "#3219:95296"
        ],
        "uname": "FB1G_R_1--FB3E_L_1"
       },
       "#1038:61187": {
        "N": 4,
        "NHP": 1,
        "class": "Synapse",
        "in_Owns": [
         "#3148:68231"
        ],
        "in_SendsTo": [
         "#3218:122374"
        ],
        "name": "FB3C--FB3C",
        "out_HasData": [
         "#3246:130413",
         "#3247:130413"
        ],
        "out_SendsTo": [
         "#3219:122374"
        ],
        "uname": "FB3C_L_4--FB3C_L_1"
       },
       "#1038:83556": {
        "N": 3,
        "NHP": 1,
        "class": "Synapse",
        "in_Owns": [
         "#3148:90612"
        ],
        "in_SendsTo": [
         "#3218:167112"
        ],
        "name": "FB3C--FB3C",
        "out_HasData": [
         "#3246:175151",
         "#3247:175151"
        ],
        "out_SendsTo": [
         "#3219:167112"
        ],
        "uname": "FB3C_L_1--FB3C_L_4"
       },
       "#1038:84867": {
        "N": 4,
        "NHP": 0,
        "class": "Synapse",
        "in_Owns": [
         "#3148:91925"
        ],
        "in_SendsTo": [
         "#3218:169734"
        ],
        "name": "FB3C--FB3C",
        "out_HasData": [
         "#3246:177773",
         "#3247:177773"
        ],
        "out_SendsTo": [
         "#3219:169734"
        ],
        "uname": "FB3C_R_4--FB3C_L_4"
       },
       "#1039:37006": {
        "N": 1,
        "NHP": 0,
        "class": "Synapse",
        "in_Owns": [
         "#3149:44078"
        ],
        "in_SendsTo": [
         "#3220:74012"
        ],
        "name": "FB4C--FB3E",
        "out_HasData": [
         "#3248:82051",
         "#3249:82051"
        ],
        "out_SendsTo": [
         "#3221:74012"
        ],
        "uname": "FB4C(NO2)_R_1--FB3E_L_1"
       },
       "#1039:38561": {
        "N": 1,
        "NHP": 1,
        "class": "Synapse",
        "in_Owns": [
         "#3149:45607"
        ],
        "in_SendsTo": [
         "#3220:77122"
        ],
        "name": "FB4C--PFR_b",
        "out_HasData": [
         "#3248:85161",
         "#3249:85161"
        ],
        "out_SendsTo": [
         "#3221:77122"
        ],
        "uname": "FB4C(NO2)_L_1--PFR_b(PB11b)_R1_C8_1"
       },
       "#1039:59842": {
        "N": 47,
        "NHP": 27,
        "class": "Synapse",
        "in_Owns": [
         "#3149:66908"
        ],
        "in_SendsTo": [
         "#3220:119684"
        ],
        "name": "FB4N--FB1G",
        "out_HasData": [
         "#3248:127723",
         "#3249:127723"
        ],
        "out_SendsTo": [
         "#3221:119684"
        ],
        "uname": "FB4N_L_1--FB1G_R_1"
       },
       "#1039:61187": {
        "N": 3,
        "NHP": 0,
        "class": "Synapse",
        "in_Owns": [
         "#3149:68231"
        ],
        "in_SendsTo": [
         "#3220:122374"
        ],
        "name": "FB3C--FB3E",
        "out_HasData": [
         "#3248:130413",
         "#3249:130413"
        ],
        "out_SendsTo": [
         "#3221:122374"
        ],
        "uname": "FB3C_L_4--FB3E_R_1"
       },
       "#1039:83557": {
        "N": 1,
        "NHP": 0,
        "class": "Synapse",
        "in_Owns": [
         "#3149:90611"
        ],
        "in_SendsTo": [
         "#3220:167114"
        ],
        "name": "FB3C--FB3C",
        "out_HasData": [
         "#3248:175153",
         "#3249:175153"
        ],
        "out_SendsTo": [
         "#3221:167114"
        ],
        "uname": "FB3C_L_1--FB3C_L_3"
       },
       "#1039:84871": {
        "N": 2,
        "NHP": 0,
        "class": "Synapse",
        "in_Owns": [
         "#3149:91921"
        ],
        "in_SendsTo": [
         "#3220:169742"
        ],
        "name": "FB3C--FB3C",
        "out_HasData": [
         "#3248:177781",
         "#3249:177781"
        ],
        "out_SendsTo": [
         "#3221:169742"
        ],
        "uname": "FB3C_R_4--FB3C_L_1"
       },
       "#1039:86566": {
        "N": 2,
        "NHP": 0,
        "class": "Synapse",
        "in_Owns": [
         "#3149:93643"
        ],
        "in_SendsTo": [
         "#3220:173132"
        ],
        "name": "FB3C--FB1G",
        "out_HasData": [
         "#3248:181171",
         "#3249:181171"
        ],
        "out_SendsTo": [
         "#3221:173132"
        ],
        "uname": "FB3C_L_2--FB1G_R_1"
       },
       "#1039:87618": {
        "N": 1,
        "NHP": 0,
        "class": "Synapse",
        "in_Owns": [
         "#3149:94674"
        ],
        "in_SendsTo": [
         "#3220:175236"
        ],
        "name": "FC1F--FB3C",
        "out_HasData": [
         "#3248:183275",
         "#3249:183275"
        ],
        "out_SendsTo": [
         "#3221:175236"
        ],
        "uname": "FC1F(FQ6)_C3_L_1--FB3C_R_2"
       },
       "#1040:58987": {
        "N": 1,
        "NHP": 1,
        "class": "Synapse",
        "in_Owns": [
         "#3150:66055"
        ],
        "in_SendsTo": [
         "#3222:117974"
        ],
        "name": "FB4N--hDeltaC",
        "out_HasData": [
         "#3250:126013",
         "#3251:126013"
        ],
        "out_SendsTo": [
         "#3223:117974"
        ],
        "uname": "FB4N_R_1--hDeltaC_03_C3_2"
       },
       "#1040:61187": {
        "N": 10,
        "NHP": 5,
        "class": "Synapse",
        "in_Owns": [
         "#3150:68231"
        ],
        "in_SendsTo": [
         "#3222:122374"
        ],
        "name": "FB3C--FB4C",
        "out_HasData": [
         "#3250:130413",
         "#3251:130413"
        ],
        "out_SendsTo": [
         "#3223:122374"
        ],
        "uname": "FB3C_L_4--FB4C(NO2)_R_1"
       },
       "#1041:38556": {
        "N": 4,
        "NHP": 2,
        "class": "Synapse",
        "in_Owns": [
         "#3151:45612"
        ],
        "in_SendsTo": [
         "#3224:77112"
        ],
        "name": "FB4C--FB4C",
        "out_HasData": [
         "#3252:85151",
         "#3253:85151"
        ],
        "out_SendsTo": [
         "#3225:77112"
        ],
        "uname": "FB4C(NO2)_L_1--FB4C(NO2)_R_1"
       },
       "#1041:38563": {
        "N": 1,
        "NHP": 0,
        "class": "Synapse",
        "in_Owns": [
         "#3151:45646"
        ],
        "in_SendsTo": [
         "#3224:77126"
        ],
        "name": "FB4C--FB3E",
        "out_HasData": [
         "#3252:85165",
         "#3253:85165"
        ],
        "out_SendsTo": [
         "#3225:77126"
        ],
        "uname": "FB4C(NO2)_L_1--FB3E_L_1"
       },
       "#1041:83562": {
        "N": 1,
        "NHP": 0,
        "class": "Synapse",
        "in_Owns": [
         "#3151:90606"
        ],
        "in_SendsTo": [
         "#3224:167124"
        ],
        "name": "FB3C--FB1G",
        "out_HasData": [
         "#3252:175163",
         "#3253:175163"
        ],
        "out_SendsTo": [
         "#3225:167124"
        ],
        "uname": "FB3C_L_1--FB1G_R_1"
       },
       "#1041:86565": {
        "N": 2,
        "NHP": 0,
        "class": "Synapse",
        "in_Owns": [
         "#3151:93644"
        ],
        "in_SendsTo": [
         "#3224:173130"
        ],
        "name": "FB3C--FB3E",
        "out_HasData": [
         "#3252:181169",
         "#3253:181169"
        ],
        "out_SendsTo": [
         "#3225:173130"
        ],
        "uname": "FB3C_L_2--FB3E_L_1"
       },
       "#1042:47657": {
        "N": 38,
        "NHP": 25,
        "class": "Synapse",
        "in_Owns": [
         "#3152:54719"
        ],
        "in_SendsTo": [
         "#3178:95315"
        ],
        "name": "FB1G--PFR_b",
        "out_HasData": [
         "#3254:103353",
         "#3255:103353"
        ],
        "out_SendsTo": [
         "#3179:95315"
        ],
        "uname": "FB1G_R_1--PFR_b(PB11b)_R1_C8_1"
       },
       "#1043:47648": {
        "N": 39,
        "NHP": 22,
        "class": "Synapse",
        "in_Owns": [
         "#3153:54728"
        ],
        "in_SendsTo": [
         "#3180:95297"
        ],
        "name": "FB1G--FB3C",
        "out_HasData": [
         "#3256:103335",
         "#3257:103335"
        ],
        "out_SendsTo": [
         "#3181:95297"
        ],
        "uname": "FB1G_R_1--FB3C_R_2"
       },
       "#1043:83556": {
        "N": 4,
        "NHP": 0,
        "class": "Synapse",
        "in_Owns": [
         "#3153:90611"
        ],
        "in_SendsTo": [
         "#3180:167113"
        ],
        "name": "FB3C--FB3E",
        "out_HasData": [
         "#3256:175151",
         "#3257:175151"
        ],
        "out_SendsTo": [
         "#3181:167113"
        ],
        "uname": "FB3C_L_1--FB3E_R_1"
       },
       "#1043:86444": {
        "N": 1,
        "NHP": 1,
        "class": "Synapse",
        "in_Owns": [
         "#3153:93514"
        ],
        "in_SendsTo": [
         "#3180:172889"
        ],
        "name": "FB3C--FB1G",
        "out_HasData": [
         "#3256:180927",
         "#3257:180927"
        ],
        "out_SendsTo": [
         "#3181:172889"
        ],
        "uname": "FB3C_R_2--FB1G_R_1"
       },
       "#1044:58978": {
        "N": 34,
        "NHP": 24,
        "class": "Synapse",
        "in_Owns": [
         "#3154:66022"
        ],
        "in_SendsTo": [
         "#3182:117957"
        ],
        "name": "FB4N--FB1G",
        "out_HasData": [
         "#3258:125995",
         "#3259:125995"
        ],
        "out_SendsTo": [
         "#3183:117957"
        ],
        "uname": "FB4N_R_1--FB1G_R_1"
       },
       "#1045:58983": {
        "N": 8,
        "NHP": 4,
        "class": "Synapse",
        "in_Owns": [
         "#3155:66059"
        ],
        "in_SendsTo": [
         "#3184:117967"
        ],
        "name": "FB4N--FB3C",
        "out_HasData": [
         "#3260:126005",
         "#3261:126005"
        ],
        "out_SendsTo": [
         "#3185:117967"
        ],
        "uname": "FB4N_R_1--FB3C_L_3"
       },
       "#1045:58988": {
        "N": 2,
        "NHP": 0,
        "class": "Synapse",
        "in_Owns": [
         "#3155:66054"
        ],
        "in_SendsTo": [
         "#3184:117977"
        ],
        "name": "FB4N--FB3C",
        "out_HasData": [
         "#3260:126015",
         "#3261:126015"
        ],
        "out_SendsTo": [
         "#3185:117977"
        ],
        "uname": "FB4N_R_1--FB3C_L_4"
       },
       "#1045:59841": {
        "N": 3,
        "NHP": 1,
        "class": "Synapse",
        "in_Owns": [
         "#3155:66909"
        ],
        "in_SendsTo": [
         "#3184:119683"
        ],
        "name": "FB4N--FB3C",
        "out_HasData": [
         "#3260:127721",
         "#3261:127721"
        ],
        "out_SendsTo": [
         "#3185:119683"
        ],
        "uname": "FB4N_L_1--FB3C_L_1"
       },
       "#1045:74435": {
        "N": 1,
        "NHP": 0,
        "class": "Synapse",
        "in_Owns": [
         "#3155:81482"
        ],
        "in_SendsTo": [
         "#3184:148871"
        ],
        "name": "hDeltaC--FC1F",
        "out_HasData": [
         "#3260:156909",
         "#3261:156909"
        ],
        "out_SendsTo": [
         "#3185:148871"
        ],
        "uname": "hDeltaC_03_C3_2--FC1F(FQ6)_C3_L_1"
       },
       "#1045:83559": {
        "N": 10,
        "NHP": 8,
        "class": "Synapse",
        "in_Owns": [
         "#3155:90608"
        ],
        "in_SendsTo": [
         "#3184:167119"
        ],
        "name": "FB3C--PFR_b",
        "out_HasData": [
         "#3260:175157",
         "#3261:175157"
        ],
        "out_SendsTo": [
         "#3185:167119"
        ],
        "uname": "FB3C_L_1--PFR_b(PB11b)_R1_C8_1"
       },
       "#1046:34077": {
        "N": 2,
        "NHP": 1,
        "class": "Synapse",
        "in_Owns": [
         "#3156:41131"
        ],
        "in_SendsTo": [
         "#3186:68155"
        ],
        "name": "FB3E--FC1F",
        "out_HasData": [
         "#3262:76193",
         "#3263:76193"
        ],
        "out_SendsTo": [
         "#3187:68155"
        ],
        "uname": "FB3E_R_1--FC1F(FQ6)_C3_L_1"
       },
       "#1046:61188": {
        "N": 3,
        "NHP": 0,
        "class": "Synapse",
        "in_Owns": [
         "#3156:68270"
        ],
        "in_SendsTo": [
         "#3186:122377"
        ],
        "name": "FB3C--FB3E",
        "out_HasData": [
         "#3262:130415",
         "#3263:130415"
        ],
        "out_SendsTo": [
         "#3187:122377"
        ],
        "uname": "FB3C_L_4--FB3E_L_1"
       },
       "#1046:87097": {
        "N": 1,
        "NHP": 0,
        "class": "Synapse",
        "in_Owns": [
         "#3156:94153"
        ],
        "in_SendsTo": [
         "#3186:174195"
        ],
        "name": "FB3C--FB3C",
        "out_HasData": [
         "#3262:182233",
         "#3263:182233"
        ],
        "out_SendsTo": [
         "#3187:174195"
        ],
        "uname": "FB3C_L_3--FB3C_R_2"
       },
       "#1046:87098": {
        "N": 4,
        "NHP": 2,
        "class": "Synapse",
        "in_Owns": [
         "#3156:94152"
        ],
        "in_SendsTo": [
         "#3186:174197"
        ],
        "name": "FB3C--FB3C",
        "out_HasData": [
         "#3262:182235",
         "#3263:182235"
        ],
        "out_SendsTo": [
         "#3187:174197"
        ],
        "uname": "FB3C_L_3--FB3C_L_2"
       },
       "#1047:36415": {
        "N": 2,
        "NHP": 2,
        "class": "Synapse",
        "in_Owns": [
         "#3157:43461"
        ],
        "in_SendsTo": [
         "#3188:72831"
        ],
        "name": "FB3E--FC1F",
        "out_HasData": [
         "#3264:80869",
         "#3265:80869"
        ],
        "out_SendsTo": [
         "#3189:72831"
        ],
        "uname": "FB3E_L_1--FC1F(FQ6)_C3_L_1"
       },
       "#1047:36416": {
        "N": 2,
        "NHP": 2,
        "class": "Synapse",
        "in_Owns": [
         "#3157:43460"
        ],
        "in_SendsTo": [
         "#3188:72833"
        ],
        "name": "FB3E--FB3C",
        "out_HasData": [
         "#3264:80871",
         "#3265:80871"
        ],
        "out_SendsTo": [
         "#3189:72833"
        ],
        "uname": "FB3E_L_1--FB3C_R_4"
       },
       "#1047:47648": {
        "N": 51,
        "NHP": 35,
        "class": "Synapse",
        "in_Owns": [
         "#3157:54728"
        ],
        "in_SendsTo": [
         "#3188:95297"
        ],
        "name": "FB1G--FB3C",
        "out_HasData": [
         "#3264:103335",
         "#3265:103335"
        ],
        "out_SendsTo": [
         "#3189:95297"
        ],
        "uname": "FB1G_R_1--FB3C_R_4"
       },
       "#1047:47657": {
        "N": 47,
        "NHP": 26,
        "class": "Synapse",
        "in_Owns": [
         "#3157:54719"
        ],
        "in_SendsTo": [
         "#3188:95315"
        ],
        "name": "FB1G--hDeltaC",
        "out_HasData": [
         "#3264:103353",
         "#3265:103353"
        ],
        "out_SendsTo": [
         "#3189:95315"
        ],
        "uname": "FB1G_R_1--hDeltaC_03_C3_2"
       },
       "#1047:61187": {
        "N": 10,
        "NHP": 6,
        "class": "Synapse",
        "in_Owns": [
         "#3157:68271"
        ],
        "in_SendsTo": [
         "#3188:122375"
        ],
        "name": "FB3C--FB4C",
        "out_HasData": [
         "#3264:130413",
         "#3265:130413"
        ],
        "out_SendsTo": [
         "#3189:122375"
        ],
        "uname": "FB3C_L_4--FB4C(NO2)_L_1"
       },
       "#1047:82915": {
        "N": 1,
        "NHP": 1,
        "class": "Synapse",
        "in_Owns": [
         "#3157:89961"
        ],
        "in_SendsTo": [
         "#3188:165831"
        ],
        "name": "PFR_b--FB3C",
        "out_HasData": [
         "#3264:173869",
         "#3265:173869"
        ],
        "out_SendsTo": [
         "#3189:165831"
        ],
        "uname": "PFR_b(PB11b)_R1_C8_1--FB3C_L_2"
       },
       "#1047:86568": {
        "N": 3,
        "NHP": 2,
        "class": "Synapse",
        "in_Owns": [
         "#3157:93640"
        ],
        "in_SendsTo": [
         "#3188:173137"
        ],
        "name": "FB3C--FB3C",
        "out_HasData": [
         "#3264:181175",
         "#3265:181175"
        ],
        "out_SendsTo": [
         "#3189:173137"
        ],
        "uname": "FB3C_L_2--FB3C_R_4"
       },
       "#1048:36412": {
        "N": 2,
        "NHP": 0,
        "class": "Synapse",
        "in_Owns": [
         "#3158:43464"
        ],
        "in_SendsTo": [
         "#3190:72825"
        ],
        "name": "FB3E--FB3C",
        "out_HasData": [
         "#3266:80863",
         "#3267:80863"
        ],
        "out_SendsTo": [
         "#3191:72825"
        ],
        "uname": "FB3E_L_1--FB3C_L_4"
       },
       "#1048:47648": {
        "N": 61,
        "NHP": 27,
        "class": "Synapse",
        "in_Owns": [
         "#3158:54728"
        ],
        "in_SendsTo": [
         "#3190:95297"
        ],
        "name": "FB1G--FB4N",
        "out_HasData": [
         "#3266:103335",
         "#3267:103335"
        ],
        "out_SendsTo": [
         "#3191:95297"
        ],
        "uname": "FB1G_R_1--FB4N_R_1"
       },
       "#1048:82915": {
        "N": 1,
        "NHP": 1,
        "class": "Synapse",
        "in_Owns": [
         "#3158:89961"
        ],
        "in_SendsTo": [
         "#3190:165831"
        ],
        "name": "PFR_b--FB4C",
        "out_HasData": [
         "#3266:173869",
         "#3267:173869"
        ],
        "out_SendsTo": [
         "#3191:165831"
        ],
        "uname": "PFR_b(PB11b)_R1_C8_1--FB4C(NO2)_L_1"
       },
       "#1048:84866": {
        "N": 3,
        "NHP": 2,
        "class": "Synapse",
        "in_Owns": [
         "#3158:91926"
        ],
        "in_SendsTo": [
         "#3190:169733"
        ],
        "name": "FB3C--FB1G",
        "out_HasData": [
         "#3266:177771",
         "#3267:177771"
        ],
        "out_SendsTo": [
         "#3191:169733"
        ],
        "uname": "FB3C_R_4--FB1G_R_1"
       },
       "#1048:86440": {
        "N": 24,
        "NHP": 16,
        "class": "Synapse",
        "in_Owns": [
         "#3158:93518"
        ],
        "in_SendsTo": [
         "#3190:172881"
        ],
        "name": "FB3C--FB4C",
        "out_HasData": [
         "#3266:180919",
         "#3267:180919"
        ],
        "out_SendsTo": [
         "#3191:172881"
        ],
        "uname": "FB3C_R_2--FB4C(NO2)_R_1"
       },
       "#1049:38557": {
        "N": 3,
        "NHP": 1,
        "class": "Synapse",
        "in_Owns": [
         "#3159:45610"
        ],
        "in_SendsTo": [
         "#3192:77115"
        ],
        "name": "FB4C--FB3C",
        "out_HasData": [
         "#3268:85153",
         "#3269:85153"
        ],
        "out_SendsTo": [
         "#3193:77115"
        ],
        "uname": "FB4C(NO2)_L_1--FB3C_R_2"
       },
       "#1049:47653": {
        "N": 41,
        "NHP": 25,
        "class": "Synapse",
        "in_Owns": [
         "#3159:54723"
        ],
        "in_SendsTo": [
         "#3192:95307"
        ],
        "name": "FB1G--FC1F",
        "out_HasData": [
         "#3268:103345",
         "#3269:103345"
        ],
        "out_SendsTo": [
         "#3193:95307"
        ],
        "uname": "FB1G_R_1--FC1F(FQ6)_C3_L_1"
       },
       "#1049:58987": {
        "N": 2,
        "NHP": 0,
        "class": "Synapse",
        "in_Owns": [
         "#3159:66055"
        ],
        "in_SendsTo": [
         "#3192:117975"
        ],
        "name": "FB4N--FB3C",
        "out_HasData": [
         "#3268:126013",
         "#3269:126013"
        ],
        "out_SendsTo": [
         "#3193:117975"
        ],
        "uname": "FB4N_R_1--FB3C_R_4"
       },
       "#1050:58979": {
        "N": 25,
        "NHP": 13,
        "class": "Synapse",
        "in_Owns": [
         "#3160:66063"
        ],
        "in_SendsTo": [
         "#3194:117959"
        ],
        "name": "FB4N--FB4C",
        "out_HasData": [
         "#3270:125997",
         "#3271:125997"
        ],
        "out_SendsTo": [
         "#3195:117959"
        ],
        "uname": "FB4N_R_1--FB4C(NO2)_L_1"
       },
       "#1050:83559": {
        "N": 1,
        "NHP": 0,
        "class": "Synapse",
        "in_Owns": [
         "#3160:90607"
        ],
        "in_SendsTo": [
         "#3194:167119"
        ],
        "name": "FB3C--FB3C",
        "out_HasData": [
         "#3270:175157",
         "#3271:175157"
        ],
        "out_SendsTo": [
         "#3195:167119"
        ],
        "uname": "FB3C_L_1--FB3C_L_2"
       },
       "#1051:36412": {
        "N": 1,
        "NHP": 0,
        "class": "Synapse",
        "in_Owns": [
         "#3161:43463"
        ],
        "in_SendsTo": [
         "#3196:72825"
        ],
        "name": "FB3E--FB3E",
        "out_HasData": [
         "#3272:80863",
         "#3273:80863"
        ],
        "out_SendsTo": [
         "#3197:72825"
        ],
        "uname": "FB3E_L_1--FB3E_R_1"
       },
       "#1051:47649": {
        "N": 47,
        "NHP": 25,
        "class": "Synapse",
        "in_Owns": [
         "#3161:54726"
        ],
        "in_SendsTo": [
         "#3196:95299"
        ],
        "name": "FB1G--FB3C",
        "out_HasData": [
         "#3272:103337",
         "#3273:103337"
        ],
        "out_SendsTo": [
         "#3197:95299"
        ],
        "uname": "FB1G_R_1--FB3C_L_4"
       },
       "#1051:58987": {
        "N": 3,
        "NHP": 0,
        "class": "Synapse",
        "in_Owns": [
         "#3161:66055"
        ],
        "in_SendsTo": [
         "#3196:117975"
        ],
        "name": "FB4N--PFR_b",
        "out_HasData": [
         "#3272:126013",
         "#3273:126013"
        ],
        "out_SendsTo": [
         "#3197:117975"
        ],
        "uname": "FB4N_R_1--PFR_b(PB11b)_R1_C8_1"
       },
       "#1051:59848": {
        "N": 3,
        "NHP": 0,
        "class": "Synapse",
        "in_Owns": [
         "#3161:66902"
        ],
        "in_SendsTo": [
         "#3196:119697"
        ],
        "name": "FB4N--PFR_b",
        "out_HasData": [
         "#3272:127735",
         "#3273:127735"
        ],
        "out_SendsTo": [
         "#3197:119697"
        ],
        "uname": "FB4N_L_1--PFR_b(PB11b)_R1_C8_1"
       },
       "#1051:83556": {
        "N": 17,
        "NHP": 8,
        "class": "Synapse",
        "in_Owns": [
         "#3161:90610"
        ],
        "in_SendsTo": [
         "#3196:167113"
        ],
        "name": "FB3C--FB4C",
        "out_HasData": [
         "#3272:175151",
         "#3273:175151"
        ],
        "out_SendsTo": [
         "#3197:167113"
        ],
        "uname": "FB3C_L_1--FB4C(NO2)_L_1"
       },
       "#1052:34079": {
        "N": 2,
        "NHP": 0,
        "class": "Synapse",
        "in_Owns": [
         "#3162:41129"
        ],
        "in_SendsTo": [
         "#3198:68159"
        ],
        "name": "FB3E--FB3C",
        "out_HasData": [
         "#3226:76198",
         "#3227:76198"
        ],
        "out_SendsTo": [
         "#3199:68159"
        ],
        "uname": "FB3E_R_1--FB3C_L_2"
       },
       "#1052:37001": {
        "N": 1,
        "NHP": 0,
        "class": "Synapse",
        "in_Owns": [
         "#3162:44083"
        ],
        "in_SendsTo": [
         "#3198:74003"
        ],
        "name": "FB4C--FB3C",
        "out_HasData": [
         "#3226:82042",
         "#3227:82042"
        ],
        "out_SendsTo": [
         "#3199:74003"
        ],
        "uname": "FB4C(NO2)_R_1--FB3C_L_1"
       },
       "#1052:61191": {
        "N": 2,
        "NHP": 0,
        "class": "Synapse",
        "in_Owns": [
         "#3162:68267"
        ],
        "in_SendsTo": [
         "#3198:122383"
        ],
        "name": "FB3C--FB3C",
        "out_HasData": [
         "#3226:130422",
         "#3227:130422"
        ],
        "out_SendsTo": [
         "#3199:122383"
        ],
        "uname": "FB3C_L_4--FB3C_L_2"
       },
       "#1053:38555": {
        "N": 2,
        "NHP": 2,
        "class": "Synapse",
        "in_Owns": [
         "#3163:45611"
        ],
        "in_SendsTo": [
         "#3200:77111"
        ],
        "name": "FB4C--FB3C",
        "out_HasData": [
         "#3228:85150",
         "#3229:85150"
        ],
        "out_SendsTo": [
         "#3201:77111"
        ],
        "uname": "FB4C(NO2)_L_1--FB3C_L_2"
       },
       "#1053:47649": {
        "N": 38,
        "NHP": 24,
        "class": "Synapse",
        "in_Owns": [
         "#3163:54726"
        ],
        "in_SendsTo": [
         "#3200:95299"
        ],
        "name": "FB1G--FB3C",
        "out_HasData": [
         "#3228:103338",
         "#3229:103338"
        ],
        "out_SendsTo": [
         "#3201:95299"
        ],
        "uname": "FB1G_R_1--FB3C_L_1"
       },
       "#1053:59849": {
        "N": 2,
        "NHP": 0,
        "class": "Synapse",
        "in_Owns": [
         "#3163:66901"
        ],
        "in_SendsTo": [
         "#3200:119699"
        ],
        "name": "FB4N--FB3E",
        "out_HasData": [
         "#3228:127738",
         "#3229:127738"
        ],
        "out_SendsTo": [
         "#3201:119699"
        ],
        "uname": "FB4N_L_1--FB3E_R_1"
       },
       "#1053:61187": {
        "N": 2,
        "NHP": 1,
        "class": "Synapse",
        "in_Owns": [
         "#3163:68271"
        ],
        "in_SendsTo": [
         "#3200:122375"
        ],
        "name": "FB3C--FB1G",
        "out_HasData": [
         "#3228:130414",
         "#3229:130414"
        ],
        "out_SendsTo": [
         "#3201:122375"
        ],
        "uname": "FB3C_L_4--FB1G_R_1"
       },
       "#1053:61190": {
        "N": 1,
        "NHP": 1,
        "class": "Synapse",
        "in_Owns": [
         "#3163:68268"
        ],
        "in_SendsTo": [
         "#3200:122381"
        ],
        "name": "FB3C--FC1F",
        "out_HasData": [
         "#3228:130420",
         "#3229:130420"
        ],
        "out_SendsTo": [
         "#3201:122381"
        ],
        "uname": "FB3C_L_4--FC1F(FQ6)_C3_L_1"
       },
       "#1054:59843": {
        "N": 5,
        "NHP": 1,
        "class": "Synapse",
        "in_Owns": [
         "#3164:66907"
        ],
        "in_SendsTo": [
         "#3202:119687"
        ],
        "name": "FB4N--FB4N",
        "out_HasData": [
         "#3230:127726",
         "#3231:127726"
        ],
        "out_SendsTo": [
         "#3203:119687"
        ],
        "uname": "FB4N_L_1--FB4N_R_1"
       },
       "#1054:83559": {
        "N": 4,
        "NHP": 3,
        "class": "Synapse",
        "in_Owns": [
         "#3164:90607"
        ],
        "in_SendsTo": [
         "#3202:167119"
        ],
        "name": "FB3C--FB4C",
        "out_HasData": [
         "#3230:175158",
         "#3231:175158"
        ],
        "out_SendsTo": [
         "#3203:167119"
        ],
        "uname": "FB3C_L_1--FB4C(NO2)_R_1"
       },
       "#1054:86440": {
        "N": 2,
        "NHP": 0,
        "class": "Synapse",
        "in_Owns": [
         "#3164:93518"
        ],
        "in_SendsTo": [
         "#3202:172881"
        ],
        "name": "FB3C--FB3C",
        "out_HasData": [
         "#3230:180920",
         "#3231:180920"
        ],
        "out_SendsTo": [
         "#3203:172881"
        ],
        "uname": "FB3C_R_2--FB3C_L_1"
       },
       "#1054:87096": {
        "N": 7,
        "NHP": 4,
        "class": "Synapse",
        "in_Owns": [
         "#3164:94154"
        ],
        "in_SendsTo": [
         "#3202:174193"
        ],
        "name": "FB3C--FB4C",
        "out_HasData": [
         "#3230:182232",
         "#3231:182232"
        ],
        "out_SendsTo": [
         "#3203:174193"
        ],
        "uname": "FB3C_L_3--FB4C(NO2)_L_1"
       },
       "#1055:34081": {
        "N": 1,
        "NHP": 0,
        "class": "Synapse",
        "in_Owns": [
         "#3165:41127"
        ],
        "in_SendsTo": [
         "#3204:68163"
        ],
        "name": "FB3E--FB3E",
        "out_HasData": [
         "#3232:76202",
         "#3233:76202"
        ],
        "out_SendsTo": [
         "#3205:68163"
        ],
        "uname": "FB3E_R_1--FB3E_L_1"
       },
       "#1055:37003": {
        "N": 1,
        "NHP": 1,
        "class": "Synapse",
        "in_Owns": [
         "#3165:44081"
        ],
        "in_SendsTo": [
         "#3204:74007"
        ],
        "name": "FB4C--FC1F",
        "out_HasData": [
         "#3232:82046",
         "#3233:82046"
        ],
        "out_SendsTo": [
         "#3205:74007"
        ],
        "uname": "FB4C(NO2)_R_1--FC1F(FQ6)_C3_L_1"
       },
       "#1055:38556": {
        "N": 15,
        "NHP": 10,
        "class": "Synapse",
        "in_Owns": [
         "#3165:45610"
        ],
        "in_SendsTo": [
         "#3204:77113"
        ],
        "name": "FB4C--FB4N",
        "out_HasData": [
         "#3232:85152",
         "#3233:85152"
        ],
        "out_SendsTo": [
         "#3205:77113"
        ],
        "uname": "FB4C(NO2)_L_1--FB4N_L_1"
       },
       "#1057:86439": {
        "N": 17,
        "NHP": 9,
        "class": "Synapse",
        "in_Owns": [
         "#3167:93519"
        ],
        "in_SendsTo": [
         "#3208:172879"
        ],
        "name": "FB3C--FB4C",
        "out_HasData": [
         "#3236:180918",
         "#3237:180918"
        ],
        "out_SendsTo": [
         "#3209:172879"
        ],
        "uname": "FB3C_R_2--FB4C(NO2)_L_1"
       },
       "#1058:58986": {
        "N": 1,
        "NHP": 0,
        "class": "Synapse",
        "in_Owns": [
         "#3168:66056"
        ],
        "in_SendsTo": [
         "#3210:117973"
        ],
        "name": "FB4N--FB3E",
        "out_HasData": [
         "#3238:126012",
         "#3239:126012"
        ],
        "out_SendsTo": [
         "#3211:117973"
        ],
        "uname": "FB4N_R_1--FB3E_R_1"
       },
       "#1058:87619": {
        "N": 1,
        "NHP": 0,
        "class": "Synapse",
        "in_Owns": [
         "#3168:94673"
        ],
        "in_SendsTo": [
         "#3210:175239"
        ],
        "name": "FC1F--FB3C",
        "out_HasData": [
         "#3238:183278",
         "#3239:183278"
        ],
        "out_SendsTo": [
         "#3211:175239"
        ],
        "uname": "FC1F(FQ6)_C3_L_1--FB3C_L_2"
       },
       "#1058:87620": {
        "N": 2,
        "NHP": 2,
        "class": "Synapse",
        "in_Owns": [
         "#3168:94672"
        ],
        "in_SendsTo": [
         "#3210:175241"
        ],
        "name": "FC1F--FB3E",
        "out_HasData": [
         "#3238:183280",
         "#3239:183280"
        ],
        "out_SendsTo": [
         "#3211:175241"
        ],
        "uname": "FC1F(FQ6)_C3_L_1--FB3E_L_1"
       },
       "#1059:37003": {
        "N": 1,
        "NHP": 1,
        "class": "Synapse",
        "in_Owns": [
         "#3169:44080"
        ],
        "in_SendsTo": [
         "#3212:74007"
        ],
        "name": "FB4C--FB3C",
        "out_HasData": [
         "#3240:82046",
         "#3241:82046"
        ],
        "out_SendsTo": [
         "#3213:74007"
        ],
        "uname": "FB4C(NO2)_R_1--FB3C_L_3"
       },
       "#1059:58989": {
        "N": 2,
        "NHP": 1,
        "class": "Synapse",
        "in_Owns": [
         "#3169:66053"
        ],
        "in_SendsTo": [
         "#3212:117979"
        ],
        "name": "FB4N--FB3C",
        "out_HasData": [
         "#3240:126018",
         "#3241:126018"
        ],
        "out_SendsTo": [
         "#3213:117979"
        ],
        "uname": "FB4N_R_1--FB3C_R_2"
       },
       "#1059:61193": {
        "N": 1,
        "NHP": 0,
        "class": "Synapse",
        "in_Owns": [
         "#3169:68265"
        ],
        "in_SendsTo": [
         "#3212:122387"
        ],
        "name": "FB3C--FB3C",
        "out_HasData": [
         "#3240:130426",
         "#3241:130426"
        ],
        "out_SendsTo": [
         "#3213:122387"
        ],
        "uname": "FB3C_L_4--FB3C_R_4"
       },
       "#1061:34073": {
        "N": 27,
        "NHP": 18,
        "class": "Synapse",
        "in_Owns": [
         "#3171:41135"
        ],
        "in_SendsTo": [
         "#3216:68147"
        ],
        "name": "FB3E--FB4C",
        "out_HasData": [
         "#3244:76186",
         "#3245:76186"
        ],
        "out_SendsTo": [
         "#3217:68147"
        ],
        "uname": "FB3E_R_1--FB4C(NO2)_R_1"
       },
       "#1061:36995": {
        "N": 5,
        "NHP": 2,
        "class": "Synapse",
        "in_Owns": [
         "#3171:44047"
        ],
        "in_SendsTo": [
         "#3216:73991"
        ],
        "name": "FB4C--FB3E",
        "out_HasData": [
         "#3244:82030",
         "#3245:82030"
        ],
        "out_SendsTo": [
         "#3217:73991"
        ],
        "uname": "FB4C(NO2)_R_1--FB3E_R_1"
       },
       "#1061:47648": {
        "N": 42,
        "NHP": 26,
        "class": "Synapse",
        "in_Owns": [
         "#3171:54726"
        ],
        "in_SendsTo": [
         "#3216:95297"
        ],
        "name": "FB1G--FB4C",
        "out_HasData": [
         "#3244:103336",
         "#3245:103336"
        ],
        "out_SendsTo": [
         "#3217:95297"
        ],
        "uname": "FB1G_R_1--FB4C(NO2)_L_1"
       },
       "#1061:84865": {
        "N": 43,
        "NHP": 34,
        "class": "Synapse",
        "in_Owns": [
         "#3171:91927"
        ],
        "in_SendsTo": [
         "#3216:169731"
        ],
        "name": "FB3C--FB4N",
        "out_HasData": [
         "#3244:177770",
         "#3245:177770"
        ],
        "out_SendsTo": [
         "#3217:169731"
        ],
        "uname": "FB3C_R_4--FB4N_L_1"
       },
       "#1061:86439": {
        "N": 41,
        "NHP": 28,
        "class": "Synapse",
        "in_Owns": [
         "#3171:93519"
        ],
        "in_SendsTo": [
         "#3216:172879"
        ],
        "name": "FB3C--FB4N",
        "out_HasData": [
         "#3244:180918",
         "#3245:180918"
        ],
        "out_SendsTo": [
         "#3217:172879"
        ],
        "uname": "FB3C_R_2--FB4N_R_1"
       },
       "#1061:86564": {
        "N": 35,
        "NHP": 29,
        "class": "Synapse",
        "in_Owns": [
         "#3171:93644"
        ],
        "in_SendsTo": [
         "#3216:173129"
        ],
        "name": "FB3C--FB4N",
        "out_HasData": [
         "#3244:181168",
         "#3245:181168"
        ],
        "out_SendsTo": [
         "#3217:173129"
        ],
        "uname": "FB3C_L_2--FB4N_L_1"
       },
       "#1062:84865": {
        "N": 52,
        "NHP": 43,
        "class": "Synapse",
        "in_Owns": [
         "#3172:91927"
        ],
        "in_SendsTo": [
         "#3218:169731"
        ],
        "name": "FB3C--FB4N",
        "out_HasData": [
         "#3246:177770",
         "#3247:177770"
        ],
        "out_SendsTo": [
         "#3219:169731"
        ],
        "uname": "FB3C_R_4--FB4N_R_1"
       },
       "#1062:87095": {
        "N": 1,
        "NHP": 0,
        "class": "Synapse",
        "in_Owns": [
         "#3172:94155"
        ],
        "in_SendsTo": [
         "#3218:174191"
        ],
        "name": "FB3C--FB3E",
        "out_HasData": [
         "#3246:182230",
         "#3247:182230"
        ],
        "out_SendsTo": [
         "#3219:174191"
        ],
        "uname": "FB3C_L_3--FB3E_R_1"
       },
       "#1062:87620": {
        "N": 1,
        "NHP": 1,
        "class": "Synapse",
        "in_Owns": [
         "#3172:94672"
        ],
        "in_SendsTo": [
         "#3218:175241"
        ],
        "name": "FC1F--FB4N",
        "out_HasData": [
         "#3246:183280",
         "#3247:183280"
        ],
        "out_SendsTo": [
         "#3219:175241"
        ],
        "uname": "FC1F(FQ6)_C3_L_1--FB4N_L_1"
       },
       "#1063:36416": {
        "N": 2,
        "NHP": 2,
        "class": "Synapse",
        "in_Owns": [
         "#3173:43500"
        ],
        "in_SendsTo": [
         "#3220:72833"
        ],
        "name": "FB3E--PFR_b",
        "out_HasData": [
         "#3248:80872",
         "#3249:80872"
        ],
        "out_SendsTo": [
         "#3221:72833"
        ],
        "uname": "FB3E_L_1--PFR_b(PB11b)_R1_C8_1"
       },
       "#1063:59849": {
        "N": 2,
        "NHP": 0,
        "class": "Synapse",
        "in_Owns": [
         "#3173:66901"
        ],
        "in_SendsTo": [
         "#3220:119699"
        ],
        "name": "FB4N--FB3C",
        "out_HasData": [
         "#3248:127738",
         "#3249:127738"
        ],
        "out_SendsTo": [
         "#3221:119699"
        ],
        "uname": "FB4N_L_1--FB3C_L_2"
       },
       "#1063:59851": {
        "N": 1,
        "NHP": 1,
        "class": "Synapse",
        "in_Owns": [
         "#3173:66899"
        ],
        "in_SendsTo": [
         "#3220:119703"
        ],
        "name": "FB4N--hDeltaC",
        "out_HasData": [
         "#3248:127742",
         "#3249:127742"
        ],
        "out_SendsTo": [
         "#3221:119703"
        ],
        "uname": "FB4N_L_1--hDeltaC_03_C3_2"
       },
       "#1063:83556": {
        "N": 2,
        "NHP": 1,
        "class": "Synapse",
        "in_Owns": [
         "#3173:90610"
        ],
        "in_SendsTo": [
         "#3220:167113"
        ],
        "name": "FB3C--FB3E",
        "out_HasData": [
         "#3248:175152",
         "#3249:175152"
        ],
        "out_SendsTo": [
         "#3221:167113"
        ],
        "uname": "FB3C_L_1--FB3E_L_1"
       },
       "#1063:84867": {
        "N": 2,
        "NHP": 0,
        "class": "Synapse",
        "in_Owns": [
         "#3173:91925"
        ],
        "in_SendsTo": [
         "#3220:169735"
        ],
        "name": "FB3C--FB3E",
        "out_HasData": [
         "#3248:177774",
         "#3249:177774"
        ],
        "out_SendsTo": [
         "#3221:169735"
        ],
        "uname": "FB3C_R_4--FB3E_R_1"
       },
       "#1064:58983": {
        "N": 3,
        "NHP": 2,
        "class": "Synapse",
        "in_Owns": [
         "#3174:66059"
        ],
        "in_SendsTo": [
         "#3222:117967"
        ],
        "name": "FB4N--FB3C",
        "out_HasData": [
         "#3250:126006",
         "#3251:126006"
        ],
        "out_SendsTo": [
         "#3223:117967"
        ],
        "uname": "FB4N_R_1--FB3C_L_1"
       },
       "#1064:84866": {
        "N": 10,
        "NHP": 7,
        "class": "Synapse",
        "in_Owns": [
         "#3174:91926"
        ],
        "in_SendsTo": [
         "#3222:169733"
        ],
        "name": "FB3C--FB4C",
        "out_HasData": [
         "#3250:177772",
         "#3251:177772"
        ],
        "out_SendsTo": [
         "#3223:169733"
        ],
        "uname": "FB3C_R_4--FB4C(NO2)_R_1"
       },
       "#1064:86563": {
        "N": 41,
        "NHP": 36,
        "class": "Synapse",
        "in_Owns": [
         "#3174:93645"
        ],
        "in_SendsTo": [
         "#3222:173127"
        ],
        "name": "FB3C--FB4N",
        "out_HasData": [
         "#3250:181166",
         "#3251:181166"
        ],
        "out_SendsTo": [
         "#3223:173127"
        ],
        "uname": "FB3C_L_2--FB4N_R_1"
       },
       "#1064:87618": {
        "N": 11,
        "NHP": 8,
        "class": "Synapse",
        "in_Owns": [
         "#3174:94674"
        ],
        "in_SendsTo": [
         "#3222:175237"
        ],
        "name": "FC1F--hDeltaC",
        "out_HasData": [
         "#3250:183276",
         "#3251:183276"
        ],
        "out_SendsTo": [
         "#3223:175237"
        ],
        "uname": "FC1F(FQ6)_C3_L_1--hDeltaC_03_C3_2"
       },
       "#1065:59840": {
        "N": 31,
        "NHP": 12,
        "class": "Synapse",
        "in_Owns": [
         "#3175:66910"
        ],
        "in_SendsTo": [
         "#3224:119681"
        ],
        "name": "FB4N--FB4C",
        "out_HasData": [
         "#3252:127720",
         "#3253:127720"
        ],
        "out_SendsTo": [
         "#3225:119681"
        ],
        "uname": "FB4N_L_1--FB4C(NO2)_R_1"
       },
       "#1065:86440": {
        "N": 2,
        "NHP": 0,
        "class": "Synapse",
        "in_Owns": [
         "#3175:93518"
        ],
        "in_SendsTo": [
         "#3224:172881"
        ],
        "name": "FB3C--FB3C",
        "out_HasData": [
         "#3252:180920",
         "#3253:180920"
        ],
        "out_SendsTo": [
         "#3225:172881"
        ],
        "uname": "FB3C_R_2--FB3C_L_3"
       },
       "#1065:86564": {
        "N": 22,
        "NHP": 11,
        "class": "Synapse",
        "in_Owns": [
         "#3175:93644"
        ],
        "in_SendsTo": [
         "#3224:173129"
        ],
        "name": "FB3C--FB4C",
        "out_HasData": [
         "#3252:181168",
         "#3253:181168"
        ],
        "out_SendsTo": [
         "#3225:173129"
        ],
        "uname": "FB3C_L_2--FB4C(NO2)_R_1"
       },
       "#1065:87101": {
        "N": 1,
        "NHP": 0,
        "class": "Synapse",
        "in_Owns": [
         "#3175:94149"
        ],
        "in_SendsTo": [
         "#3224:174203"
        ],
        "name": "FB3C--FB3C",
        "out_HasData": [
         "#3252:182242",
         "#3253:182242"
        ],
        "out_SendsTo": [
         "#3225:174203"
        ],
        "uname": "FB3C_L_3--FB3C_R_4"
       },
       "#874:61": {
        "class": "Neuron",
        "in_Owns": [
         "#3171:3089"
        ],
        "info": {
         "Hemibrain Trace Status": "Roughly traced"
        },
        "name": "FB3E",
        "out_ArborizesIn": [
         "#3364:479",
         "#3365:479",
         "#3366:479",
         "#3367:479",
         "#3368:479",
         "#3369:479",
         "#3322:480",
         "#3323:480",
         "#3324:480",
         "#3325:480",
         "#3326:480",
         "#3327:480",
         "#3328:480",
         "#3329:480"
        ],
        "out_HasData": [
         "#3252:126",
         "#3253:126"
        ],
        "referenceId": "1224591253",
        "uname": "FB3E_R_1"
       },
       "#880:91": {
        "class": "Neuron",
        "in_Owns": [
         "#3130:3143"
        ],
        "info": {
         "Hemibrain Trace Status": "Roughly traced"
        },
        "name": "FB3C",
        "out_ArborizesIn": [
         "#3331:679",
         "#3332:679",
         "#3333:679",
         "#3334:679",
         "#3335:679",
         "#3336:679",
         "#3337:679",
         "#3338:679",
         "#3339:679",
         "#3340:679",
         "#3341:679",
         "#3342:679"
        ],
        "out_HasData": [
         "#3265:186",
         "#3266:186"
        ],
        "referenceId": "1349102153",
        "uname": "FB3C_L_4"
       },
       "#881:42": {
        "class": "Neuron",
        "in_Owns": [
         "#3130:3109"
        ],
        "info": {
         "Hemibrain Trace Status": "Roughly traced"
        },
        "name": "FB3E",
        "out_ArborizesIn": [
         "#3365:337",
         "#3366:337",
         "#3367:337",
         "#3368:337",
         "#3369:337",
         "#3322:338",
         "#3323:338",
         "#3324:338",
         "#3325:338",
         "#3326:338",
         "#3327:338",
         "#3328:338",
         "#3329:338",
         "#3330:338",
         "#3331:338",
         "#3332:338"
        ],
        "out_HasData": [
         "#3266:88",
         "#3267:88"
        ],
        "referenceId": "1163212068",
        "uname": "FB3E_L_1"
       },
       "#882:52": {
        "class": "Neuron",
        "in_Owns": [
         "#3131:3099"
        ],
        "info": {
         "Hemibrain Trace Status": "Roughly traced"
        },
        "name": "FC1F",
        "out_ArborizesIn": [
         "#3322:417",
         "#3323:417",
         "#3324:417",
         "#3325:417",
         "#3326:417",
         "#3327:417",
         "#3328:417",
         "#3329:417",
         "#3330:417"
        ],
        "out_HasData": [
         "#3268:108",
         "#3269:108"
        ],
        "referenceId": "1195917506",
        "uname": "FC1F(FQ6)_C3_L_1"
       },
       "#889:523": {
        "class": "Neuron",
        "in_Owns": [
         "#3169:110",
         "#3141:3586"
        ],
        "info": {
         "Hemibrain Trace Status": "Roughly traced"
        },
        "name": "hDeltaC",
        "out_ArborizesIn": [
         "#3344:3689",
         "#3345:3689",
         "#3346:3689",
         "#3347:3689",
         "#3348:3689",
         "#3349:3689",
         "#3350:3689",
         "#3351:3689",
         "#3352:3689",
         "#3353:3689"
        ],
        "out_HasData": [
         "#3237:1051",
         "#3238:1051"
        ],
        "referenceId": "941141029",
        "uname": "hDeltaC_03_C3_2"
       },
       "#892:61": {
        "class": "Neuron",
        "in_Owns": [
         "#3141:3090"
        ],
        "info": {
         "Hemibrain Trace Status": "Roughly traced"
        },
        "name": "FB3C",
        "out_ArborizesIn": [
         "#3345:484",
         "#3346:484",
         "#3347:484",
         "#3348:484",
         "#3349:484",
         "#3350:484",
         "#3351:484",
         "#3352:484",
         "#3353:484",
         "#3354:484",
         "#3355:484",
         "#3356:484"
        ],
        "out_HasData": [
         "#3240:127",
         "#3241:127"
        ],
        "referenceId": "1225273264",
        "uname": "FB3C_L_2"
       },
       "#893:51": {
        "class": "Neuron",
        "in_Owns": [
         "#3142:3100"
        ],
        "info": {
         "Hemibrain Trace Status": "Roughly traced"
        },
        "name": "FB3C",
        "out_ArborizesIn": [
         "#3349:410",
         "#3350:410",
         "#3351:410",
         "#3352:410",
         "#3353:410",
         "#3354:410",
         "#3355:410",
         "#3356:410",
         "#3357:410",
         "#3358:410",
         "#3359:410",
         "#3360:410",
         "#3361:410"
        ],
        "out_HasData": [
         "#3242:107",
         "#3243:107"
        ],
        "referenceId": "1193560469",
        "uname": "FB3C_R_2"
       },
       "#894:61": {
        "class": "Neuron",
        "in_Owns": [
         "#3143:3090"
        ],
        "info": {
         "Hemibrain Trace Status": "Traced"
        },
        "name": "FB4C",
        "out_ArborizesIn": [
         "#3324:485",
         "#3325:485",
         "#3326:485",
         "#3327:485",
         "#3328:485",
         "#3329:485",
         "#3330:485",
         "#3331:485",
         "#3332:485",
         "#3333:485",
         "#3334:485",
         "#3335:485",
         "#3336:485",
         "#3337:485",
         "#3338:485",
         "#3339:485",
         "#3340:485",
         "#3341:485",
         "#3342:485",
         "#3343:485",
         "#3344:485",
         "#3345:485",
         "#3346:485",
         "#3347:485"
        ],
        "out_HasData": [
         "#3244:127",
         "#3245:127"
        ],
        "referenceId": "1225290633",
        "uname": "FB4C(NO2)_R_1"
       },
       "#906:391": {
        "class": "Neuron",
        "in_Owns": [
         "#3158:3426"
        ],
        "info": {
         "Hemibrain Trace Status": "Roughly traced"
        },
        "name": "FB3C",
        "out_ArborizesIn": [
         "#3331:2536",
         "#3332:2536",
         "#3333:2536",
         "#3334:2536",
         "#3335:2536",
         "#3336:2536",
         "#3337:2536",
         "#3338:2536",
         "#3339:2536",
         "#3340:2536",
         "#3341:2536",
         "#3342:2536",
         "#3343:2536",
         "#3344:2536",
         "#3345:2536",
         "#3346:2536"
        ],
        "out_HasData": [
         "#3271:787",
         "#3272:787"
        ],
        "referenceId": "5813045216",
        "uname": "FB3C_R_4"
       },
       "#910:83": {
        "class": "Neuron",
        "in_Owns": [
         "#3160:3150"
        ],
        "info": {
         "Hemibrain Trace Status": "Roughly traced"
        },
        "name": "FB3C",
        "out_ArborizesIn": [
         "#3342:635",
         "#3343:635",
         "#3344:635",
         "#3345:635",
         "#3346:635",
         "#3347:635",
         "#3348:635",
         "#3349:635",
         "#3350:635",
         "#3351:635",
         "#3352:635",
         "#3353:635"
        ],
        "out_HasData": [
         "#3229:172",
         "#3230:172"
        ],
        "referenceId": "1318394745",
        "uname": "FB3C_L_3"
       },
       "#911:451": {
        "class": "Neuron",
        "in_Owns": [
         "#3163:3490"
        ],
        "info": {
         "Hemibrain Trace Status": "Roughly traced"
        },
        "name": "FB4N",
        "out_ArborizesIn": [
         "#3328:3063",
         "#3329:3063",
         "#3330:3063",
         "#3331:3063",
         "#3332:3063",
         "#3333:3063",
         "#3334:3063",
         "#3335:3063",
         "#3336:3063",
         "#3337:3063",
         "#3338:3063",
         "#3339:3063",
         "#3340:3063",
         "#3341:3063"
        ],
        "out_HasData": [
         "#3233:908",
         "#3234:908"
        ],
        "referenceId": "673746277",
        "uname": "FB4N_R_1"
       },
       "#912:41": {
        "class": "Neuron",
        "in_Owns": [
         "#3161:3108"
        ],
        "info": {
         "Hemibrain Trace Status": "Roughly traced"
        },
        "name": "FB3C",
        "out_ArborizesIn": [
         "#3333:335",
         "#3334:335",
         "#3335:335",
         "#3336:335",
         "#3337:335",
         "#3338:335",
         "#3339:335",
         "#3340:335",
         "#3341:335",
         "#3342:335",
         "#3343:335"
        ],
        "out_HasData": [
         "#3232:88",
         "#3233:88"
        ],
        "referenceId": "1162862472",
        "uname": "FB3C_L_1"
       },
       "#916:415": {
        "class": "Neuron",
        "in_Owns": [
         "#3168:3442"
        ],
        "info": {
         "Hemibrain Trace Status": "Roughly traced"
        },
        "name": "PFR_b",
        "out_ArborizesIn": [
         "#3327:2758",
         "#3328:2758",
         "#3329:2758",
         "#3330:2758",
         "#3331:2758",
         "#3332:2758",
         "#3333:2758",
         "#3334:2758",
         "#3335:2758",
         "#3336:2758",
         "#3337:2758",
         "#3338:2758",
         "#3339:2758"
        ],
        "out_HasData": [
         "#3243:836",
         "#3244:836"
        ],
        "referenceId": "5813081494",
        "uname": "PFR_b(PB11b)_R1_C8_1"
       },
       "#918:313": {
        "class": "Neuron",
        "in_Owns": [
         "#3170:3378"
        ],
        "info": {
         "Hemibrain Trace Status": "Roughly traced"
        },
        "name": "FB1G",
        "out_ArborizesIn": [
         "#3324:1960",
         "#3325:1960",
         "#3326:1960",
         "#3327:1960",
         "#3328:1960",
         "#3329:1960",
         "#3330:1960",
         "#3331:1960",
         "#3332:1960",
         "#3333:1960",
         "#3334:1960",
         "#3335:1960",
         "#3336:1960",
         "#3337:1960",
         "#3338:1960",
         "#3339:1960",
         "#3340:1960",
         "#3341:1960",
         "#3342:1960",
         "#3343:1960",
         "#3344:1960",
         "#3345:1960",
         "#3346:1960",
         "#3347:1960",
         "#3348:1960"
        ],
        "out_HasData": [
         "#3247:632",
         "#3248:632"
        ],
        "referenceId": "513784136",
        "uname": "FB1G_R_1"
       },
       "#919:31": {
        "class": "Neuron",
        "in_Owns": [
         "#3168:3076"
        ],
        "info": {
         "Hemibrain Trace Status": "Roughly traced"
        },
        "name": "FB4C",
        "out_ArborizesIn": [
         "#3326:260",
         "#3327:260",
         "#3328:260",
         "#3329:260",
         "#3330:260",
         "#3331:260",
         "#3332:260",
         "#3333:260",
         "#3334:260",
         "#3335:260",
         "#3336:260",
         "#3337:260",
         "#3338:260",
         "#3339:260",
         "#3340:260",
         "#3341:260",
         "#3342:260",
         "#3343:260"
        ],
        "out_HasData": [
         "#3246:68",
         "#3247:68"
        ],
        "referenceId": "1131836229",
        "uname": "FB4C(NO2)_L_1"
       },
       "#920:403": {
        "class": "Neuron",
        "in_Owns": [
         "#3172:3454"
        ],
        "info": {
         "Hemibrain Trace Status": "Roughly traced"
        },
        "name": "FB4N",
        "out_ArborizesIn": [
         "#3332:2643",
         "#3333:2643",
         "#3334:2643",
         "#3335:2643",
         "#3336:2643",
         "#3337:2643",
         "#3338:2643",
         "#3339:2643",
         "#3340:2643",
         "#3341:2643",
         "#3342:2643",
         "#3343:2643",
         "#3344:2643",
         "#3345:2643"
        ],
        "out_HasData": [
         "#3251:812",
         "#3252:812"
        ],
        "referenceId": "5813058422",
        "uname": "FB4N_L_1"
       }
      },
      "text/plain": [
       "<IPython.core.display.JSON object>"
      ]
     },
     "metadata": {
      "application/json": {
       "expanded": false,
       "root": "root"
      }
     },
     "output_type": "display_data"
    },
    {
     "data": {
      "application/json": [
       [
        "#1030:47648",
        "#894:61",
        {
         "class": "SendsTo"
        }
       ],
       [
        "#1061:47648",
        "#919:31",
        {
         "class": "SendsTo"
        }
       ],
       [
        "#1022:36995",
        "#920:403",
        {
         "class": "SendsTo"
        }
       ],
       [
        "#1047:36415",
        "#882:52",
        {
         "class": "SendsTo"
        }
       ],
       [
        "#1021:34075",
        "#911:451",
        {
         "class": "SendsTo"
        }
       ],
       [
        "#1038:84867",
        "#880:91",
        {
         "class": "SendsTo"
        }
       ],
       [
        "#1028:84870",
        "#910:83",
        {
         "class": "SendsTo"
        }
       ],
       [
        "#1064:87618",
        "#889:523",
        {
         "class": "SendsTo"
        }
       ],
       [
        "#1034:87099",
        "#916:415",
        {
         "class": "SendsTo"
        }
       ],
       [
        "#1063:83556",
        "#881:42",
        {
         "class": "SendsTo"
        }
       ],
       [
        "#1033:87097",
        "#912:41",
        {
         "class": "SendsTo"
        }
       ],
       [
        "#889:523",
        "#1035:74435",
        {
         "class": "SendsTo"
        }
       ],
       [
        "#889:523",
        "#1045:74435",
        {
         "class": "SendsTo"
        }
       ],
       [
        "#1033:34077",
        "#912:41",
        {
         "class": "SendsTo"
        }
       ],
       [
        "#1038:61187",
        "#912:41",
        {
         "class": "SendsTo"
        }
       ],
       [
        "#1062:87095",
        "#874:61",
        {
         "class": "SendsTo"
        }
       ],
       [
        "#1036:58978",
        "#894:61",
        {
         "class": "SendsTo"
        }
       ],
       [
        "#1041:38556",
        "#894:61",
        {
         "class": "SendsTo"
        }
       ],
       [
        "#1032:36995",
        "#919:31",
        {
         "class": "SendsTo"
        }
       ],
       [
        "#1025:84866",
        "#892:61",
        {
         "class": "SendsTo"
        }
       ],
       [
        "#1030:34078",
        "#893:51",
        {
         "class": "SendsTo"
        }
       ],
       [
        "#1026:61188",
        "#911:451",
        {
         "class": "SendsTo"
        }
       ],
       [
        "#911:451",
        "#1045:58988",
        {
         "class": "SendsTo"
        }
       ],
       [
        "#911:451",
        "#1040:58987",
        {
         "class": "SendsTo"
        }
       ],
       [
        "#911:451",
        "#1050:58979",
        {
         "class": "SendsTo"
        }
       ],
       [
        "#911:451",
        "#1059:58989",
        {
         "class": "SendsTo"
        }
       ],
       [
        "#911:451",
        "#1045:58983",
        {
         "class": "SendsTo"
        }
       ],
       [
        "#911:451",
        "#1064:58983",
        {
         "class": "SendsTo"
        }
       ],
       [
        "#911:451",
        "#1044:58978",
        {
         "class": "SendsTo"
        }
       ],
       [
        "#911:451",
        "#1032:58980",
        {
         "class": "SendsTo"
        }
       ],
       [
        "#911:451",
        "#1049:58987",
        {
         "class": "SendsTo"
        }
       ],
       [
        "#911:451",
        "#1036:58978",
        {
         "class": "SendsTo"
        }
       ],
       [
        "#911:451",
        "#1058:58986",
        {
         "class": "SendsTo"
        }
       ],
       [
        "#911:451",
        "#1036:58983",
        {
         "class": "SendsTo"
        }
       ],
       [
        "#911:451",
        "#1051:58987",
        {
         "class": "SendsTo"
        }
       ],
       [
        "#1053:38555",
        "#892:61",
        {
         "class": "SendsTo"
        }
       ],
       [
        "#1035:86439",
        "#920:403",
        {
         "class": "SendsTo"
        }
       ],
       [
        "#1023:38560",
        "#874:61",
        {
         "class": "SendsTo"
        }
       ],
       [
        "#1037:86445",
        "#880:91",
        {
         "class": "SendsTo"
        }
       ],
       [
        "#1046:87097",
        "#893:51",
        {
         "class": "SendsTo"
        }
       ],
       [
        "#1048:47648",
        "#911:451",
        {
         "class": "SendsTo"
        }
       ],
       [
        "#1033:47648",
        "#910:83",
        {
         "class": "SendsTo"
        }
       ],
       [
        "#1053:61190",
        "#882:52",
        {
         "class": "SendsTo"
        }
       ],
       [
        "#1028:61192",
        "#916:415",
        {
         "class": "SendsTo"
        }
       ],
       [
        "#1018:36996",
        "#911:451",
        {
         "class": "SendsTo"
        }
       ],
       [
        "#1035:36418",
        "#910:83",
        {
         "class": "SendsTo"
        }
       ],
       [
        "#1028:59850",
        "#906:391",
        {
         "class": "SendsTo"
        }
       ],
       [
        "#1040:61187",
        "#894:61",
        {
         "class": "SendsTo"
        }
       ],
       [
        "#1026:38553",
        "#912:41",
        {
         "class": "SendsTo"
        }
       ],
       [
        "#1026:59843",
        "#919:31",
        {
         "class": "SendsTo"
        }
       ],
       [
        "#1034:83559",
        "#882:52",
        {
         "class": "SendsTo"
        }
       ],
       [
        "#1039:61187",
        "#874:61",
        {
         "class": "SendsTo"
        }
       ],
       [
        "#1061:36995",
        "#874:61",
        {
         "class": "SendsTo"
        }
       ],
       [
        "#912:41",
        "#1054:83559",
        {
         "class": "SendsTo"
        }
       ],
       [
        "#912:41",
        "#1051:83556",
        {
         "class": "SendsTo"
        }
       ],
       [
        "#912:41",
        "#1043:83556",
        {
         "class": "SendsTo"
        }
       ],
       [
        "#912:41",
        "#1063:83556",
        {
         "class": "SendsTo"
        }
       ],
       [
        "#912:41",
        "#1029:83556",
        {
         "class": "SendsTo"
        }
       ],
       [
        "#912:41",
        "#1034:83559",
        {
         "class": "SendsTo"
        }
       ],
       [
        "#912:41",
        "#1050:83559",
        {
         "class": "SendsTo"
        }
       ],
       [
        "#912:41",
        "#1041:83562",
        {
         "class": "SendsTo"
        }
       ],
       [
        "#912:41",
        "#1039:83557",
        {
         "class": "SendsTo"
        }
       ],
       [
        "#912:41",
        "#1038:83556",
        {
         "class": "SendsTo"
        }
       ],
       [
        "#912:41",
        "#1036:83557",
        {
         "class": "SendsTo"
        }
       ],
       [
        "#912:41",
        "#1019:83556",
        {
         "class": "SendsTo"
        }
       ],
       [
        "#912:41",
        "#1045:83559",
        {
         "class": "SendsTo"
        }
       ],
       [
        "#1035:38558",
        "#918:313",
        {
         "class": "SendsTo"
        }
       ],
       [
        "#1029:87095",
        "#911:451",
        {
         "class": "SendsTo"
        }
       ],
       [
        "#1023:36412",
        "#918:313",
        {
         "class": "SendsTo"
        }
       ],
       [
        "#1032:87097",
        "#882:52",
        {
         "class": "SendsTo"
        }
       ],
       [
        "#1059:61193",
        "#906:391",
        {
         "class": "SendsTo"
        }
       ],
       [
        "#1021:37005",
        "#880:91",
        {
         "class": "SendsTo"
        }
       ],
       [
        "#906:391",
        "#1038:84867",
        {
         "class": "SendsTo"
        }
       ],
       [
        "#906:391",
        "#1028:84870",
        {
         "class": "SendsTo"
        }
       ],
       [
        "#906:391",
        "#1036:84871",
        {
         "class": "SendsTo"
        }
       ],
       [
        "#906:391",
        "#1025:84866",
        {
         "class": "SendsTo"
        }
       ],
       [
        "#906:391",
        "#1031:84866",
        {
         "class": "SendsTo"
        }
       ],
       [
        "#906:391",
        "#1063:84867",
        {
         "class": "SendsTo"
        }
       ],
       [
        "#906:391",
        "#1019:84870",
        {
         "class": "SendsTo"
        }
       ],
       [
        "#906:391",
        "#1039:84871",
        {
         "class": "SendsTo"
        }
       ],
       [
        "#906:391",
        "#1019:84871",
        {
         "class": "SendsTo"
        }
       ],
       [
        "#906:391",
        "#1064:84866",
        {
         "class": "SendsTo"
        }
       ],
       [
        "#906:391",
        "#1048:84866",
        {
         "class": "SendsTo"
        }
       ],
       [
        "#906:391",
        "#1062:84865",
        {
         "class": "SendsTo"
        }
       ],
       [
        "#906:391",
        "#1061:84865",
        {
         "class": "SendsTo"
        }
       ],
       [
        "#1051:58987",
        "#916:415",
        {
         "class": "SendsTo"
        }
       ],
       [
        "#1059:37003",
        "#910:83",
        {
         "class": "SendsTo"
        }
       ],
       [
        "#1025:87095",
        "#920:403",
        {
         "class": "SendsTo"
        }
       ],
       [
        "#1054:86440",
        "#912:41",
        {
         "class": "SendsTo"
        }
       ],
       [
        "#1054:83559",
        "#894:61",
        {
         "class": "SendsTo"
        }
       ],
       [
        "#1018:87099",
        "#881:42",
        {
         "class": "SendsTo"
        }
       ],
       [
        "#894:61",
        "#1052:37001",
        {
         "class": "SendsTo"
        }
       ],
       [
        "#894:61",
        "#1039:37006",
        {
         "class": "SendsTo"
        }
       ],
       [
        "#894:61",
        "#1059:37003",
        {
         "class": "SendsTo"
        }
       ],
       [
        "#894:61",
        "#1018:36996",
        {
         "class": "SendsTo"
        }
       ],
       [
        "#894:61",
        "#1031:37001",
        {
         "class": "SendsTo"
        }
       ],
       [
        "#894:61",
        "#1022:36993",
        {
         "class": "SendsTo"
        }
       ],
       [
        "#894:61",
        "#1031:36997",
        {
         "class": "SendsTo"
        }
       ],
       [
        "#894:61",
        "#1022:36995",
        {
         "class": "SendsTo"
        }
       ],
       [
        "#894:61",
        "#1027:37004",
        {
         "class": "SendsTo"
        }
       ],
       [
        "#894:61",
        "#1032:36995",
        {
         "class": "SendsTo"
        }
       ],
       [
        "#894:61",
        "#1055:37003",
        {
         "class": "SendsTo"
        }
       ],
       [
        "#894:61",
        "#1021:37005",
        {
         "class": "SendsTo"
        }
       ],
       [
        "#894:61",
        "#1061:36995",
        {
         "class": "SendsTo"
        }
       ],
       [
        "#1030:87096",
        "#894:61",
        {
         "class": "SendsTo"
        }
       ],
       [
        "#1039:59842",
        "#918:313",
        {
         "class": "SendsTo"
        }
       ],
       [
        "#1051:83556",
        "#919:31",
        {
         "class": "SendsTo"
        }
       ],
       [
        "#1050:83559",
        "#892:61",
        {
         "class": "SendsTo"
        }
       ],
       [
        "#1063:59849",
        "#892:61",
        {
         "class": "SendsTo"
        }
       ],
       [
        "#1065:87101",
        "#906:391",
        {
         "class": "SendsTo"
        }
       ],
       [
        "#1035:86568",
        "#874:61",
        {
         "class": "SendsTo"
        }
       ],
       [
        "#881:42",
        "#1047:36416",
        {
         "class": "SendsTo"
        }
       ],
       [
        "#881:42",
        "#1018:36412",
        {
         "class": "SendsTo"
        }
       ],
       [
        "#881:42",
        "#1023:36414",
        {
         "class": "SendsTo"
        }
       ],
       [
        "#881:42",
        "#1027:36415",
        {
         "class": "SendsTo"
        }
       ],
       [
        "#881:42",
        "#1051:36412",
        {
         "class": "SendsTo"
        }
       ],
       [
        "#881:42",
        "#1038:36412",
        {
         "class": "SendsTo"
        }
       ],
       [
        "#881:42",
        "#1063:36416",
        {
         "class": "SendsTo"
        }
       ],
       [
        "#881:42",
        "#1022:36413",
        {
         "class": "SendsTo"
        }
       ],
       [
        "#881:42",
        "#1023:36412",
        {
         "class": "SendsTo"
        }
       ],
       [
        "#881:42",
        "#1034:36412",
        {
         "class": "SendsTo"
        }
       ],
       [
        "#881:42",
        "#1047:36415",
        {
         "class": "SendsTo"
        }
       ],
       [
        "#881:42",
        "#1035:36413",
        {
         "class": "SendsTo"
        }
       ],
       [
        "#881:42",
        "#1035:36418",
        {
         "class": "SendsTo"
        }
       ],
       [
        "#881:42",
        "#1048:36412",
        {
         "class": "SendsTo"
        }
       ],
       [
        "#1063:84867",
        "#874:61",
        {
         "class": "SendsTo"
        }
       ],
       [
        "#1058:87619",
        "#892:61",
        {
         "class": "SendsTo"
        }
       ],
       [
        "#1045:59841",
        "#912:41",
        {
         "class": "SendsTo"
        }
       ],
       [
        "#1052:61191",
        "#892:61",
        {
         "class": "SendsTo"
        }
       ],
       [
        "#1046:87098",
        "#892:61",
        {
         "class": "SendsTo"
        }
       ],
       [
        "#1046:61188",
        "#881:42",
        {
         "class": "SendsTo"
        }
       ],
       [
        "#1027:36415",
        "#893:51",
        {
         "class": "SendsTo"
        }
       ],
       [
        "#918:313",
        "#1035:47648",
        {
         "class": "SendsTo"
        }
       ],
       [
        "#918:313",
        "#1038:47648",
        {
         "class": "SendsTo"
        }
       ],
       [
        "#918:313",
        "#1051:47649",
        {
         "class": "SendsTo"
        }
       ],
       [
        "#918:313",
        "#1033:47648",
        {
         "class": "SendsTo"
        }
       ],
       [
        "#918:313",
        "#1047:47648",
        {
         "class": "SendsTo"
        }
       ],
       [
        "#918:313",
        "#1049:47653",
        {
         "class": "SendsTo"
        }
       ],
       [
        "#918:313",
        "#1030:47648",
        {
         "class": "SendsTo"
        }
       ],
       [
        "#918:313",
        "#1032:47648",
        {
         "class": "SendsTo"
        }
       ],
       [
        "#918:313",
        "#1043:47648",
        {
         "class": "SendsTo"
        }
       ],
       [
        "#918:313",
        "#1047:47657",
        {
         "class": "SendsTo"
        }
       ],
       [
        "#918:313",
        "#1061:47648",
        {
         "class": "SendsTo"
        }
       ],
       [
        "#918:313",
        "#1048:47648",
        {
         "class": "SendsTo"
        }
       ],
       [
        "#918:313",
        "#1034:47650",
        {
         "class": "SendsTo"
        }
       ],
       [
        "#918:313",
        "#1053:47649",
        {
         "class": "SendsTo"
        }
       ],
       [
        "#918:313",
        "#1042:47657",
        {
         "class": "SendsTo"
        }
       ],
       [
        "#1022:36413",
        "#892:61",
        {
         "class": "SendsTo"
        }
       ],
       [
        "#1057:86439",
        "#919:31",
        {
         "class": "SendsTo"
        }
       ],
       [
        "#1048:86440",
        "#894:61",
        {
         "class": "SendsTo"
        }
       ],
       [
        "#1055:38556",
        "#920:403",
        {
         "class": "SendsTo"
        }
       ],
       [
        "#1025:86564",
        "#919:31",
        {
         "class": "SendsTo"
        }
       ],
       [
        "#1064:86563",
        "#911:451",
        {
         "class": "SendsTo"
        }
       ],
       [
        "#1035:36413",
        "#919:31",
        {
         "class": "SendsTo"
        }
       ],
       [
        "#1053:59849",
        "#874:61",
        {
         "class": "SendsTo"
        }
       ],
       [
        "#1036:83557",
        "#893:51",
        {
         "class": "SendsTo"
        }
       ],
       [
        "#1031:37001",
        "#916:415",
        {
         "class": "SendsTo"
        }
       ],
       [
        "#1055:34081",
        "#881:42",
        {
         "class": "SendsTo"
        }
       ],
       [
        "#1041:38563",
        "#881:42",
        {
         "class": "SendsTo"
        }
       ],
       [
        "#1031:84866",
        "#919:31",
        {
         "class": "SendsTo"
        }
       ],
       [
        "#1043:83556",
        "#874:61",
        {
         "class": "SendsTo"
        }
       ],
       [
        "#1026:61187",
        "#920:403",
        {
         "class": "SendsTo"
        }
       ],
       [
        "#1058:87620",
        "#881:42",
        {
         "class": "SendsTo"
        }
       ],
       [
        "#1023:86564",
        "#910:83",
        {
         "class": "SendsTo"
        }
       ],
       [
        "#1045:83559",
        "#916:415",
        {
         "class": "SendsTo"
        }
       ],
       [
        "#1037:61188",
        "#910:83",
        {
         "class": "SendsTo"
        }
       ],
       [
        "#882:52",
        "#1028:87620",
        {
         "class": "SendsTo"
        }
       ],
       [
        "#882:52",
        "#1032:87618",
        {
         "class": "SendsTo"
        }
       ],
       [
        "#882:52",
        "#1062:87620",
        {
         "class": "SendsTo"
        }
       ],
       [
        "#882:52",
        "#1058:87620",
        {
         "class": "SendsTo"
        }
       ],
       [
        "#882:52",
        "#1064:87618",
        {
         "class": "SendsTo"
        }
       ],
       [
        "#882:52",
        "#1023:87618",
        {
         "class": "SendsTo"
        }
       ],
       [
        "#882:52",
        "#1058:87619",
        {
         "class": "SendsTo"
        }
       ],
       [
        "#882:52",
        "#1039:87618",
        {
         "class": "SendsTo"
        }
       ],
       [
        "#882:52",
        "#1031:87618",
        {
         "class": "SendsTo"
        }
       ],
       [
        "#1059:58989",
        "#893:51",
        {
         "class": "SendsTo"
        }
       ],
       [
        "#1065:86564",
        "#894:61",
        {
         "class": "SendsTo"
        }
       ],
       [
        "#1049:58987",
        "#906:391",
        {
         "class": "SendsTo"
        }
       ],
       [
        "#1034:86567",
        "#882:52",
        {
         "class": "SendsTo"
        }
       ],
       [
        "#1034:86439",
        "#892:61",
        {
         "class": "SendsTo"
        }
       ],
       [
        "#1047:61187",
        "#919:31",
        {
         "class": "SendsTo"
        }
       ],
       [
        "#1029:83556",
        "#911:451",
        {
         "class": "SendsTo"
        }
       ],
       [
        "#1048:36412",
        "#880:91",
        {
         "class": "SendsTo"
        }
       ],
       [
        "#1038:47648",
        "#881:42",
        {
         "class": "SendsTo"
        }
       ],
       [
        "#1062:87620",
        "#920:403",
        {
         "class": "SendsTo"
        }
       ],
       [
        "#1046:34077",
        "#882:52",
        {
         "class": "SendsTo"
        }
       ],
       [
        "#1031:86569",
        "#912:41",
        {
         "class": "SendsTo"
        }
       ],
       [
        "#1043:47648",
        "#893:51",
        {
         "class": "SendsTo"
        }
       ],
       [
        "#1023:36414",
        "#912:41",
        {
         "class": "SendsTo"
        }
       ],
       [
        "#1036:58983",
        "#892:61",
        {
         "class": "SendsTo"
        }
       ],
       [
        "#1065:59840",
        "#894:61",
        {
         "class": "SendsTo"
        }
       ],
       [
        "#1053:47649",
        "#912:41",
        {
         "class": "SendsTo"
        }
       ],
       [
        "#1040:58987",
        "#889:523",
        {
         "class": "SendsTo"
        }
       ],
       [
        "#1035:74435",
        "#919:31",
        {
         "class": "SendsTo"
        }
       ],
       [
        "#1063:36416",
        "#916:415",
        {
         "class": "SendsTo"
        }
       ],
       [
        "#893:51",
        "#1065:86440",
        {
         "class": "SendsTo"
        }
       ],
       [
        "#893:51",
        "#1034:86439",
        {
         "class": "SendsTo"
        }
       ],
       [
        "#893:51",
        "#1061:86439",
        {
         "class": "SendsTo"
        }
       ],
       [
        "#893:51",
        "#1057:86439",
        {
         "class": "SendsTo"
        }
       ],
       [
        "#893:51",
        "#1035:86439",
        {
         "class": "SendsTo"
        }
       ],
       [
        "#893:51",
        "#1048:86440",
        {
         "class": "SendsTo"
        }
       ],
       [
        "#893:51",
        "#1018:86441",
        {
         "class": "SendsTo"
        }
       ],
       [
        "#893:51",
        "#1054:86440",
        {
         "class": "SendsTo"
        }
       ],
       [
        "#893:51",
        "#1022:86446",
        {
         "class": "SendsTo"
        }
       ],
       [
        "#893:51",
        "#1032:86442",
        {
         "class": "SendsTo"
        }
       ],
       [
        "#893:51",
        "#1043:86444",
        {
         "class": "SendsTo"
        }
       ],
       [
        "#893:51",
        "#1037:86445",
        {
         "class": "SendsTo"
        }
       ],
       [
        "#893:51",
        "#1033:86444",
        {
         "class": "SendsTo"
        }
       ],
       [
        "#1050:58979",
        "#919:31",
        {
         "class": "SendsTo"
        }
       ],
       [
        "#1023:86567",
        "#916:415",
        {
         "class": "SendsTo"
        }
       ],
       [
        "#1032:86442",
        "#882:52",
        {
         "class": "SendsTo"
        }
       ],
       [
        "#1021:34076",
        "#920:403",
        {
         "class": "SendsTo"
        }
       ],
       [
        "#1061:34073",
        "#894:61",
        {
         "class": "SendsTo"
        }
       ],
       [
        "#1022:86446",
        "#881:42",
        {
         "class": "SendsTo"
        }
       ],
       [
        "#1019:84871",
        "#881:42",
        {
         "class": "SendsTo"
        }
       ],
       [
        "#1035:34080",
        "#918:313",
        {
         "class": "SendsTo"
        }
       ],
       [
        "#1019:83556",
        "#920:403",
        {
         "class": "SendsTo"
        }
       ],
       [
        "#920:403",
        "#1053:59849",
        {
         "class": "SendsTo"
        }
       ],
       [
        "#920:403",
        "#1025:59852",
        {
         "class": "SendsTo"
        }
       ],
       [
        "#920:403",
        "#1028:59850",
        {
         "class": "SendsTo"
        }
       ],
       [
        "#920:403",
        "#1054:59843",
        {
         "class": "SendsTo"
        }
       ],
       [
        "#920:403",
        "#1063:59851",
        {
         "class": "SendsTo"
        }
       ],
       [
        "#920:403",
        "#1051:59848",
        {
         "class": "SendsTo"
        }
       ],
       [
        "#920:403",
        "#1039:59842",
        {
         "class": "SendsTo"
        }
       ],
       [
        "#920:403",
        "#1026:59843",
        {
         "class": "SendsTo"
        }
       ],
       [
        "#920:403",
        "#1063:59849",
        {
         "class": "SendsTo"
        }
       ],
       [
        "#920:403",
        "#1045:59841",
        {
         "class": "SendsTo"
        }
       ],
       [
        "#920:403",
        "#1065:59840",
        {
         "class": "SendsTo"
        }
       ],
       [
        "#920:403",
        "#1030:59849",
        {
         "class": "SendsTo"
        }
       ],
       [
        "#1052:34079",
        "#892:61",
        {
         "class": "SendsTo"
        }
       ],
       [
        "#1061:86439",
        "#911:451",
        {
         "class": "SendsTo"
        }
       ],
       [
        "#1032:87618",
        "#874:61",
        {
         "class": "SendsTo"
        }
       ],
       [
        "#919:31",
        "#1026:38553",
        {
         "class": "SendsTo"
        }
       ],
       [
        "#919:31",
        "#1041:38563",
        {
         "class": "SendsTo"
        }
       ],
       [
        "#919:31",
        "#1053:38555",
        {
         "class": "SendsTo"
        }
       ],
       [
        "#919:31",
        "#1049:38557",
        {
         "class": "SendsTo"
        }
       ],
       [
        "#919:31",
        "#1039:38561",
        {
         "class": "SendsTo"
        }
       ],
       [
        "#919:31",
        "#1041:38556",
        {
         "class": "SendsTo"
        }
       ],
       [
        "#919:31",
        "#1035:38554",
        {
         "class": "SendsTo"
        }
       ],
       [
        "#919:31",
        "#1055:38556",
        {
         "class": "SendsTo"
        }
       ],
       [
        "#919:31",
        "#1035:38558",
        {
         "class": "SendsTo"
        }
       ],
       [
        "#919:31",
        "#1023:38560",
        {
         "class": "SendsTo"
        }
       ],
       [
        "#1019:84870",
        "#916:415",
        {
         "class": "SendsTo"
        }
       ],
       [
        "#1063:59851",
        "#889:523",
        {
         "class": "SendsTo"
        }
       ],
       [
        "#1022:36993",
        "#918:313",
        {
         "class": "SendsTo"
        }
       ],
       [
        "#1020:86566",
        "#880:91",
        {
         "class": "SendsTo"
        }
       ],
       [
        "#1064:58983",
        "#912:41",
        {
         "class": "SendsTo"
        }
       ],
       [
        "#1053:61187",
        "#918:313",
        {
         "class": "SendsTo"
        }
       ],
       [
        "#1035:47648",
        "#920:403",
        {
         "class": "SendsTo"
        }
       ],
       [
        "#1047:47648",
        "#906:391",
        {
         "class": "SendsTo"
        }
       ],
       [
        "#916:415",
        "#1048:82915",
        {
         "class": "SendsTo"
        }
       ],
       [
        "#916:415",
        "#1047:82915",
        {
         "class": "SendsTo"
        }
       ],
       [
        "#1039:86566",
        "#918:313",
        {
         "class": "SendsTo"
        }
       ],
       [
        "#1034:36412",
        "#894:61",
        {
         "class": "SendsTo"
        }
       ],
       [
        "#1054:59843",
        "#911:451",
        {
         "class": "SendsTo"
        }
       ],
       [
        "#1025:59852",
        "#881:42",
        {
         "class": "SendsTo"
        }
       ],
       [
        "#1041:86565",
        "#881:42",
        {
         "class": "SendsTo"
        }
       ],
       [
        "#1048:82915",
        "#919:31",
        {
         "class": "SendsTo"
        }
       ],
       [
        "#1051:59848",
        "#916:415",
        {
         "class": "SendsTo"
        }
       ],
       [
        "#1045:58983",
        "#910:83",
        {
         "class": "SendsTo"
        }
       ],
       [
        "#1043:86444",
        "#918:313",
        {
         "class": "SendsTo"
        }
       ],
       [
        "#1055:37003",
        "#882:52",
        {
         "class": "SendsTo"
        }
       ],
       [
        "#1028:87620",
        "#919:31",
        {
         "class": "SendsTo"
        }
       ],
       [
        "#1048:84866",
        "#918:313",
        {
         "class": "SendsTo"
        }
       ],
       [
        "#1039:38561",
        "#916:415",
        {
         "class": "SendsTo"
        }
       ],
       [
        "#1027:37004",
        "#889:523",
        {
         "class": "SendsTo"
        }
       ],
       [
        "#1039:37006",
        "#881:42",
        {
         "class": "SendsTo"
        }
       ],
       [
        "#874:61",
        "#1021:34076",
        {
         "class": "SendsTo"
        }
       ],
       [
        "#874:61",
        "#1035:34080",
        {
         "class": "SendsTo"
        }
       ],
       [
        "#874:61",
        "#1021:34075",
        {
         "class": "SendsTo"
        }
       ],
       [
        "#874:61",
        "#1027:34076",
        {
         "class": "SendsTo"
        }
       ],
       [
        "#874:61",
        "#1061:34073",
        {
         "class": "SendsTo"
        }
       ],
       [
        "#874:61",
        "#1046:34077",
        {
         "class": "SendsTo"
        }
       ],
       [
        "#874:61",
        "#1030:34078",
        {
         "class": "SendsTo"
        }
       ],
       [
        "#874:61",
        "#1055:34081",
        {
         "class": "SendsTo"
        }
       ],
       [
        "#874:61",
        "#1033:34077",
        {
         "class": "SendsTo"
        }
       ],
       [
        "#874:61",
        "#1052:34079",
        {
         "class": "SendsTo"
        }
       ],
       [
        "#874:61",
        "#1022:34081",
        {
         "class": "SendsTo"
        }
       ],
       [
        "#874:61",
        "#1036:34080",
        {
         "class": "SendsTo"
        }
       ],
       [
        "#1061:86564",
        "#920:403",
        {
         "class": "SendsTo"
        }
       ],
       [
        "#1035:38554",
        "#911:451",
        {
         "class": "SendsTo"
        }
       ],
       [
        "#1041:83562",
        "#918:313",
        {
         "class": "SendsTo"
        }
       ],
       [
        "#1039:83557",
        "#910:83",
        {
         "class": "SendsTo"
        }
       ],
       [
        "#1051:47649",
        "#880:91",
        {
         "class": "SendsTo"
        }
       ],
       [
        "#1065:86440",
        "#910:83",
        {
         "class": "SendsTo"
        }
       ],
       [
        "#1062:84865",
        "#911:451",
        {
         "class": "SendsTo"
        }
       ],
       [
        "#1064:84866",
        "#894:61",
        {
         "class": "SendsTo"
        }
       ],
       [
        "#1033:86444",
        "#916:415",
        {
         "class": "SendsTo"
        }
       ],
       [
        "#1031:36997",
        "#906:391",
        {
         "class": "SendsTo"
        }
       ],
       [
        "#1051:36412",
        "#874:61",
        {
         "class": "SendsTo"
        }
       ],
       [
        "#1042:47657",
        "#916:415",
        {
         "class": "SendsTo"
        }
       ],
       [
        "#1047:47657",
        "#889:523",
        {
         "class": "SendsTo"
        }
       ],
       [
        "#1047:86568",
        "#906:391",
        {
         "class": "SendsTo"
        }
       ],
       [
        "#1032:58980",
        "#920:403",
        {
         "class": "SendsTo"
        }
       ],
       [
        "#1045:74435",
        "#882:52",
        {
         "class": "SendsTo"
        }
       ],
       [
        "#1049:47653",
        "#882:52",
        {
         "class": "SendsTo"
        }
       ],
       [
        "#1036:84871",
        "#882:52",
        {
         "class": "SendsTo"
        }
       ],
       [
        "#1047:82915",
        "#892:61",
        {
         "class": "SendsTo"
        }
       ],
       [
        "#1039:87618",
        "#893:51",
        {
         "class": "SendsTo"
        }
       ],
       [
        "#910:83",
        "#1046:87097",
        {
         "class": "SendsTo"
        }
       ],
       [
        "#910:83",
        "#1018:87099",
        {
         "class": "SendsTo"
        }
       ],
       [
        "#910:83",
        "#1029:87095",
        {
         "class": "SendsTo"
        }
       ],
       [
        "#910:83",
        "#1030:87096",
        {
         "class": "SendsTo"
        }
       ],
       [
        "#910:83",
        "#1046:87098",
        {
         "class": "SendsTo"
        }
       ],
       [
        "#910:83",
        "#1033:87097",
        {
         "class": "SendsTo"
        }
       ],
       [
        "#910:83",
        "#1065:87101",
        {
         "class": "SendsTo"
        }
       ],
       [
        "#910:83",
        "#1023:87099",
        {
         "class": "SendsTo"
        }
       ],
       [
        "#910:83",
        "#1032:87097",
        {
         "class": "SendsTo"
        }
       ],
       [
        "#910:83",
        "#1062:87095",
        {
         "class": "SendsTo"
        }
       ],
       [
        "#910:83",
        "#1034:87099",
        {
         "class": "SendsTo"
        }
       ],
       [
        "#910:83",
        "#1054:87096",
        {
         "class": "SendsTo"
        }
       ],
       [
        "#910:83",
        "#1025:87095",
        {
         "class": "SendsTo"
        }
       ],
       [
        "#1023:87618",
        "#912:41",
        {
         "class": "SendsTo"
        }
       ],
       [
        "#1044:58978",
        "#918:313",
        {
         "class": "SendsTo"
        }
       ],
       [
        "#1031:87618",
        "#910:83",
        {
         "class": "SendsTo"
        }
       ],
       [
        "#1038:36412",
        "#920:403",
        {
         "class": "SendsTo"
        }
       ],
       [
        "#1054:87096",
        "#919:31",
        {
         "class": "SendsTo"
        }
       ],
       [
        "#1047:36416",
        "#906:391",
        {
         "class": "SendsTo"
        }
       ],
       [
        "#880:91",
        "#1028:61191",
        {
         "class": "SendsTo"
        }
       ],
       [
        "#880:91",
        "#1053:61190",
        {
         "class": "SendsTo"
        }
       ],
       [
        "#880:91",
        "#1026:61187",
        {
         "class": "SendsTo"
        }
       ],
       [
        "#880:91",
        "#1026:61188",
        {
         "class": "SendsTo"
        }
       ],
       [
        "#880:91",
        "#1037:61188",
        {
         "class": "SendsTo"
        }
       ],
       [
        "#880:91",
        "#1028:61192",
        {
         "class": "SendsTo"
        }
       ],
       [
        "#880:91",
        "#1053:61187",
        {
         "class": "SendsTo"
        }
       ],
       [
        "#880:91",
        "#1059:61193",
        {
         "class": "SendsTo"
        }
       ],
       [
        "#880:91",
        "#1047:61187",
        {
         "class": "SendsTo"
        }
       ],
       [
        "#880:91",
        "#1052:61191",
        {
         "class": "SendsTo"
        }
       ],
       [
        "#880:91",
        "#1039:61187",
        {
         "class": "SendsTo"
        }
       ],
       [
        "#880:91",
        "#1046:61188",
        {
         "class": "SendsTo"
        }
       ],
       [
        "#880:91",
        "#1038:61187",
        {
         "class": "SendsTo"
        }
       ],
       [
        "#880:91",
        "#1040:61187",
        {
         "class": "SendsTo"
        }
       ],
       [
        "#1052:37001",
        "#912:41",
        {
         "class": "SendsTo"
        }
       ],
       [
        "#1030:59849",
        "#893:51",
        {
         "class": "SendsTo"
        }
       ],
       [
        "#1019:86564",
        "#893:51",
        {
         "class": "SendsTo"
        }
       ],
       [
        "#1049:38557",
        "#893:51",
        {
         "class": "SendsTo"
        }
       ],
       [
        "#1039:84871",
        "#912:41",
        {
         "class": "SendsTo"
        }
       ],
       [
        "#1028:61191",
        "#893:51",
        {
         "class": "SendsTo"
        }
       ],
       [
        "#1045:58988",
        "#880:91",
        {
         "class": "SendsTo"
        }
       ],
       [
        "#1018:36412",
        "#911:451",
        {
         "class": "SendsTo"
        }
       ],
       [
        "#1038:83556",
        "#880:91",
        {
         "class": "SendsTo"
        }
       ],
       [
        "#1018:86441",
        "#874:61",
        {
         "class": "SendsTo"
        }
       ],
       [
        "#1027:34076",
        "#919:31",
        {
         "class": "SendsTo"
        }
       ],
       [
        "#1022:34081",
        "#906:391",
        {
         "class": "SendsTo"
        }
       ],
       [
        "#892:61",
        "#1061:86564",
        {
         "class": "SendsTo"
        }
       ],
       [
        "#892:61",
        "#1019:86564",
        {
         "class": "SendsTo"
        }
       ],
       [
        "#892:61",
        "#1025:86564",
        {
         "class": "SendsTo"
        }
       ],
       [
        "#892:61",
        "#1023:86567",
        {
         "class": "SendsTo"
        }
       ],
       [
        "#892:61",
        "#1034:86567",
        {
         "class": "SendsTo"
        }
       ],
       [
        "#892:61",
        "#1039:86566",
        {
         "class": "SendsTo"
        }
       ],
       [
        "#892:61",
        "#1020:86566",
        {
         "class": "SendsTo"
        }
       ],
       [
        "#892:61",
        "#1047:86568",
        {
         "class": "SendsTo"
        }
       ],
       [
        "#892:61",
        "#1064:86563",
        {
         "class": "SendsTo"
        }
       ],
       [
        "#892:61",
        "#1031:86569",
        {
         "class": "SendsTo"
        }
       ],
       [
        "#892:61",
        "#1035:86568",
        {
         "class": "SendsTo"
        }
       ],
       [
        "#892:61",
        "#1041:86565",
        {
         "class": "SendsTo"
        }
       ],
       [
        "#892:61",
        "#1065:86564",
        {
         "class": "SendsTo"
        }
       ],
       [
        "#892:61",
        "#1023:86564",
        {
         "class": "SendsTo"
        }
       ],
       [
        "#1061:84865",
        "#920:403",
        {
         "class": "SendsTo"
        }
       ],
       [
        "#1036:34080",
        "#910:83",
        {
         "class": "SendsTo"
        }
       ],
       [
        "#1034:47650",
        "#874:61",
        {
         "class": "SendsTo"
        }
       ],
       [
        "#1032:47648",
        "#892:61",
        {
         "class": "SendsTo"
        }
       ],
       [
        "#1058:58986",
        "#874:61",
        {
         "class": "SendsTo"
        }
       ],
       [
        "#1023:87099",
        "#918:313",
        {
         "class": "SendsTo"
        }
       ]
      ],
      "text/plain": [
       "<IPython.core.display.JSON object>"
      ]
     },
     "metadata": {
      "application/json": {
       "expanded": false,
       "root": "root"
      }
     },
     "output_type": "display_data"
    }
   ],
   "source": [
    "display(JSON(nodes))\n",
    "display(JSON(edges))"
   ]
  },
  {
   "cell_type": "code",
   "execution_count": 47,
   "id": "78260918-05bd-4050-bb95-1d378221fd9a",
   "metadata": {},
   "outputs": [],
   "source": [
    "#G = NetworkX Directional Graph -DiGraph- Creation\n",
    "\n",
    "G = nx.DiGraph()\n",
    "\n",
    "for e_pre in nodes:\n",
    "    try:\n",
    "        G.add_node(e_pre, uname = nodes[e_pre]['uname'],)\n",
    "    except KeyError as e:\n",
    "        print(f\"key {e.args[0]} not found\")\n",
    "        continue\n",
    "    \n",
    "for edge in edges:\n",
    "    try:\n",
    "        G.add_edge(edge[0],edge[1])\n",
    "    except KeyError as e:\n",
    "        print(f\"key {e.args[0]} error occured\")\n",
    "        continue    "
   ]
  },
  {
   "cell_type": "code",
   "execution_count": 48,
   "id": "c648d661-2a33-402a-a4ea-56812ad097c7",
   "metadata": {},
   "outputs": [],
   "source": [
    "#Calculate Centrality\n",
    "#add centrality to DiGraph\n",
    "\n",
    "#Orignally Degree centrality was used\n",
    "#But has been changed so that key bridge nodes can be identified\n",
    "#A key bridge may have a at least one weak pre or post synaptic connection\n",
    "#But a cnetral bridge with weak connectivty on both ends must be avoided\n",
    "#centralityDict = nx.degree_centrality(G)\n",
    "centralityDict = nx.betweenness_centrality(G, k=numberOfNodes, normalized=True, weight=None, endpoints=False, seed=None)\n",
    "\n",
    "for e_pre in nodes:\n",
    "    G.add_node(e_pre, centrality = centralityDict[e_pre])\n"
   ]
  },
  {
   "cell_type": "code",
   "execution_count": 49,
   "id": "96a15455-af78-4e75-82a0-9b4657aa8187",
   "metadata": {},
   "outputs": [],
   "source": [
    "#GraphViz\n",
    "#Rndering the final output ot NeuGFX\n",
    "\n",
    "#false = line , ortho is curved for example\n",
    "gvSplines = \"false\"\n",
    "\n",
    "graph_struct = {'verbose':'false',\n",
    "                'splines': gvSplines,\n",
    "                'pad': '0.5',\n",
    "                'ranksep': '1.5',\n",
    "                'concentrate': 'true',\n",
    "                'newrank': 'true',\n",
    "                'rankdir': 'LR'}\n",
    "\n",
    "\n",
    "edgeFontSize = '8.0'\n",
    "edgeFontColor = \"#40e0d0\"\n",
    "edgeFontName = \"Courier\"\n",
    "gvSize = '50,50'\n",
    "#gvLayout = 'dot'\n",
    "#gvLayout = 'sfdp'\n",
    "gvLayout = 'sfdp'\n",
    "\n",
    "g = Digraph('G', \n",
    "            filename ='G_ex.gv',\n",
    "            graph_attr = {  'size': gvSize,\n",
    "                            'layout':gvLayout,\n",
    "                            'fontcolor':edgeFontColor,\n",
    "                            'fontsize':edgeFontSize,\n",
    "                            'fontname':edgeFontName,\n",
    "                            'overlap_scaling':'2',\n",
    "                            'rotation':'0',\n",
    "                            'mode':'spring',\n",
    "                            'beautify':'true',\n",
    "                            'splines': 'curved',\n",
    "                            'arrowsize': '0.5',\n",
    "                            'overlap': 'false',\n",
    "                            'pad': '0.1',\n",
    "                            'quadtree':'true',\n",
    "                            'nodesep': '0.3',\n",
    "                            'outputorder': 'edgesfirst',\n",
    "                            'ranksep': '0.2',\n",
    "                            'bgcolor': '#212529',\n",
    "                            'colorscheme':'rdylgn8',\n",
    "                            'concentrate': 'true',\n",
    "                            'newrank': 'true',\n",
    "                            'rankdir': 'LR'})\n",
    "\n"
   ]
  },
  {
   "cell_type": "code",
   "execution_count": 50,
   "id": "49b6e1e7-2d31-4f38-a515-26c7502458dc",
   "metadata": {},
   "outputs": [],
   "source": [
    "def calcColor(normalizedScore):\n",
    "\n",
    "    pw = pw_default = 0.1\n",
    "    pc = pc_defult = 'gray'\n",
    "    retlist = []\n",
    "\n",
    "    if normalizedScore < 0 :\n",
    "        pw = pw_default\n",
    "        pc=  pc_defult\n",
    "    elif 0 <= normalizedScore < 0.1 :\n",
    "        pw = pw_default\n",
    "        pc = 'red'\n",
    "    elif 0.1 <= normalizedScore < 0.2:\n",
    "        pw = normalizedScore\n",
    "        pc = 'orangered3'\n",
    "    elif 0.2 <= normalizedScore < 0.3:\n",
    "        pw =  normalizedScore\n",
    "        pc = 'orangered2'\n",
    "    elif 0.3 <= normalizedScore < 0.4:\n",
    "        pw =  normalizedScore\n",
    "        pc = 'gold' \n",
    "    elif 0.4 <= normalizedScore < 0.5:\n",
    "        pw =  normalizedScore\n",
    "        pc = 'chartreuse'\n",
    "    elif 0.5 <= normalizedScore < 0.6:\n",
    "        pw =  normalizedScore\n",
    "        pc = 'limegreen' \n",
    "    elif 0.6 <= normalizedScore < 0.7:\n",
    "        pw =  normalizedScore\n",
    "        pc = 'lime'\n",
    "    elif 0.7 <= normalizedScore < 0.8:\n",
    "        pw =  normalizedScore\n",
    "        pc = 'cyan3' \n",
    "    else:\n",
    "        pw =  normalizedScore\n",
    "        pc = 'blue' \n",
    "\n",
    "    retlist.extend([pw,pc])\n",
    "    return retlist\n",
    " "
   ]
  },
  {
   "cell_type": "code",
   "execution_count": 51,
   "id": "b456c6e0-1ee4-472e-9a20-94d13a62eb93",
   "metadata": {},
   "outputs": [],
   "source": [
    "#EdgeLayout\n",
    "#Using Centrality\n",
    "#node_centrality Dict Created\n",
    "\n",
    "valid_nodes = []\n",
    "node_centrality = {}\n",
    "nodeDegreeDict = {}\n",
    "nodeNameZscoreDict = {}\n",
    "zScoreMultiplyer = 5\n",
    "widthColor = []\n",
    "\n",
    "minNormZscore = 0.15\n",
    "#display(JSON( G.edges(data=True)))\n",
    "#print(G.edges(data=True))\n",
    "for head, tail, data in G.edges(data=True):\n",
    "    #print('pre= ' + str(head) + 'post= ' + str(tail))\n",
    "    pre_name = G.nodes(data=True)[head]['uname']\n",
    "    post_name = G.nodes(data=True)[tail]['uname']\n",
    "    pw = pw_default = 0.1\n",
    "    pc = 'grey'\n",
    "\n",
    "    #set Edge Penwidth and color based on Normalized Z score\n",
    "    \n",
    "    #This checks if the head of the edge is presynaptic\n",
    "    if head in preSynNumberDict.keys():\n",
    "        widthColor = calcColor(preSynNumberDict[head][2])\n",
    "        #print ('Head hashid '+ str(head) + '  name= ' + str(pre_name) + ' with val =' + str(preSynNumberDict[head][2])  )\n",
    "        pw = widthColor[0] * zScoreMultiplyer\n",
    "        pc = widthColor[1]\n",
    "        includeEdge = True\n",
    "        if preSynNumberDict[head][2] <= minNormZscore:\n",
    "            includeEdge = False\n",
    "\n",
    "        node_centrality[pre_name] = G.nodes(data=True)[head]['centrality']\n",
    "        node_centrality[post_name] = G.nodes(data=True)[tail]['centrality']\n",
    "        nodeNameZscoreDict[pre_name] = pw\n",
    "\n",
    "    #This checks if the tail of the edge is postsynaptic\n",
    "    elif tail in postSynNumberDict.keys():\n",
    "        #print ('Tail hashid '+ str(tail) + 'name = ' + str(post_name) + 'with val= '+ str(postSynNumberDict[tail][2])  )\n",
    "        widthColor = calcColor(postSynNumberDict[tail][2])\n",
    "        #print ('Post hashid ' + str(post) + 'with val= '+ str(postSynNumberDict[post][2]) + ' width and color =' + str(widthColor) )\n",
    "        pw = widthColor[0] * zScoreMultiplyer\n",
    "        pc = widthColor[1]\n",
    "        includeEdge = True\n",
    "        if preSynNumberDict[tail][2] <= minNormZscore:\n",
    "            \n",
    "            includeEdge = False\n",
    "            #print(preSynNumberDict[tail], 'excluded with normalized z score', preSynNumberDict[tail][2])\n",
    "        \n",
    "        node_centrality[pre_name] = G.nodes(data=True)[head]['centrality']\n",
    "        node_centrality[post_name] = G.nodes(data=True)[tail]['centrality']\n",
    "        nodeNameZscoreDict[pre_name] = pw\n",
    "    \n",
    "    \n",
    "    else:\n",
    "        print('Both ' + str(head) + 'and' + str(tail) + 'is not synapses!!!')\n",
    "            \n",
    "\n",
    "            \n",
    "    #Don't include edges that are trivial\n",
    "    if includeEdge:\n",
    "        g.edge(str(pre_name), str(post_name), \n",
    "            labelfloat = 'true', \n",
    "            label = 'Zscore = ' + str(round(widthColor[0],2)),\n",
    "            fontsize = edgeFontSize,\n",
    "            fontcolor = edgeFontColor,\n",
    "            fontname = edgeFontName,\n",
    "            penwidth= str(pw),\n",
    "            weight='3',\n",
    "            arrowsize='0.4', \n",
    "            color=pc)\n",
    "        valid_nodes.append(str(pre_name))\n",
    "        valid_nodes.append(str(post_name))\n",
    "        valid_nodes = list(set(valid_nodes))\n",
    "\n",
    "        "
   ]
  },
  {
   "cell_type": "code",
   "execution_count": 52,
   "id": "1528d4e0-2dfc-48c2-982e-c4de5ec396b9",
   "metadata": {},
   "outputs": [],
   "source": [
    "#GraphViz node setup\n",
    "#New version uses centrality\n",
    "\n",
    "\n",
    "\n",
    "#NODE Attributtes\n",
    "\n",
    "for _head in valid_nodes:\n",
    "    #print(_head)\n",
    "    #If  this is a pre or post synapse\n",
    "    if '--' in str(_head):\n",
    "        ht_float = math.floor(node_centrality.get(str(_head))*1000)/1000\n",
    "        ht       = ht_float if ht_float > 0.05 else 0.05\n",
    "        g.node(str(_head),\n",
    "            shape='circle',\n",
    "            height= str(ht),\n",
    "            label='',\n",
    "            fontsize='4.0',\n",
    "            fixedsize='true',\n",
    "            color= 'cyan' if ht_float > 0.05 else 'grey',\n",
    "            style='filled')\n",
    "    #else must a neuron node \n",
    "    else:\n",
    "        if _head in nodeNameZscoreDict.keys():\n",
    "            ht_float = math.floor(node_centrality.get(str(_head))*1000)/1000\n",
    "            calculatedFontSize = str(ht_float * 10)\n",
    "            centralityLabel = \"cent= \" + str(ht_float)\n",
    "            #ht_float += (0.1 * nodeNameZscoreDict[_head])\n",
    "            g.node(str(_head),\n",
    "                shape='circle',\n",
    "                height= str(ht_float),\n",
    "                fontsize=calculatedFontSize,\n",
    "                label= str(_head +\"\\n\" + centralityLabel),\n",
    "                fixedsize='true',\n",
    "                fontcolor='white',\n",
    "                color='brown2',\n",
    "                style='filled')\n",
    "        else:\n",
    "            #because of NaN error, we remove this problematic node\n",
    "            print(str(_head) + ' Not found in nodeNameZscoreDict')\n",
    "            g.node(str(_head),\n",
    "                shape='circle',\n",
    "                height= '0.2',\n",
    "                fontsize=calculatedFontSize,\n",
    "                fixedsize='true',\n",
    "                fontcolor='red',\n",
    "                color='yellow',\n",
    "                style='filled')\n",
    "            \n",
    "            \n",
    "        \n",
    "      \n"
   ]
  },
  {
   "cell_type": "code",
   "execution_count": 53,
   "id": "881731d6-19cb-4d25-aecb-8d9306aec453",
   "metadata": {},
   "outputs": [
    {
     "name": "stdout",
     "output_type": "stream",
     "text": [
      "[graphviz.saving 2024-11-22 18:12:19,921] write lines to 'G_auto.gv'\n",
      "[graphviz.saving 2024-11-22 18:12:19,940] write lines to 'G_auto'\n",
      "[graphviz.backend.execute 2024-11-22 18:12:19,956] run [PosixPath('dot'), '-Kdot', '-Tsvg', '-O', 'G_auto']\n"
     ]
    },
    {
     "name": "stderr",
     "output_type": "stream",
     "text": [
      "Warning: node 'FB4C(NO2)_R_1', graph 'G' size too small for label\n",
      "Warning: node 'FB4C(NO2)_L_1', graph 'G' size too small for label\n",
      "Warning: node 'FB3C_L_1', graph 'G' size too small for label\n",
      "Warning: node 'FB1G_R_1', graph 'G' size too small for label\n",
      "Warning: node 'FB3E_L_1', graph 'G' size too small for label\n",
      "Warning: node 'FB3C_R_2', graph 'G' size too small for label\n",
      "Warning: node 'PFR_b(PB11b)_R1_C8_1', graph 'G' size too small for label\n",
      "Warning: node 'hDeltaC_03_C3_2', graph 'G' size too small for label\n",
      "Warning: node 'FC1F(FQ6)_C3_L_1', graph 'G' size too small for label\n",
      "Warning: node 'FB3C_L_2', graph 'G' size too small for label\n",
      "Warning: transparent is not a known color.\n"
     ]
    },
    {
     "data": {
      "text/plain": [
       "'FB1G__35post_001.svg'"
      ]
     },
     "execution_count": 53,
     "metadata": {},
     "output_type": "execute_result"
    }
   ],
   "source": [
    "\n",
    "\n",
    "g.attr(size='50,50')\n",
    "g.verbose = True\n",
    "try:\n",
    "    g.save('G_auto.gv')\n",
    "    g.render('G_auto', format = 'svg', view=False)\n",
    "    \n",
    "    \n",
    "    #g.render('G_auto', format = 'png', view=False)\n",
    "except Exception as e:\n",
    "    self.raise_error(e, 'There was an error during diagram generation. Please execute \"conda install -c anaconda graphviz\" in your terminal in your conda environment, or try to install GraphViz globally from https://graphviz.org/download/.')\n",
    "\n",
    "\n",
    "#Make a filter str to use in the save file name\n",
    "nFilterStr = nFilter.replace('$','')\n",
    "\n",
    "characters_to_replace = ['/r', ']', '[', '.', '*', '(', ')']\n",
    "\n",
    "# Replace each character in the list\n",
    "for char in characters_to_replace:\n",
    "    nFilterStr = nFilterStr.replace(char, '')\n",
    "\n",
    "\n",
    "noiFileName = str(noi +'_'+ nFilterStr + '_' + str(nSys) + prePost + '_001')\n",
    "shutil.copy('G_auto.svg', noiFileName + '.svg')"
   ]
  },
  {
   "cell_type": "code",
   "execution_count": 54,
   "id": "f265b7c3-2398-40dc-a640-8bd55b7b61f2",
   "metadata": {},
   "outputs": [],
   "source": [
    "with open('G_auto.svg', 'r') as file:\n",
    "    data = file.read()"
   ]
  },
  {
   "cell_type": "code",
   "execution_count": 55,
   "id": "3f7e8bb4-aaf3-4072-bf7b-415e4255819b",
   "metadata": {},
   "outputs": [],
   "source": [
    "# Update widgets and widget managers throughout the frontend (included for compatibility)\n",
    "for i in fbl.widget_manager.widgets:\n",
    "    if fbl.widget_manager.widgets[i].widget_id not in fbl.client_manager.clients[fbl.widget_manager.widgets[i].client_id]['widgets']:\n",
    "        fbl.client_manager.clients[fbl.widget_manager.widgets[i].client_id]['widgets'].append(fbl.widget_manager.widgets[i].widget_id)\n",
    "\n",
    "# Load the diagram\n",
    "my_client.tryComms({'widget':'GFX', \n",
    "                    'messageType': 'loadCircuitFromString', \n",
    "                    'data': {'string':data, 'name':'custom'}})\n",
    "\n",
    "# Run the submodule called onGraphVizLoad2 to make the diagram interactive\n",
    "my_client.tryComms({'widget':'GFX', \n",
    "                    'messageType': 'eval', \n",
    "                    'data': {'data':\"window.fbl.loadSubmodule('data/FBLSubmodules/onGraphVizLoad2.js');\", 'name':'custom'}})\n"
   ]
  },
  {
   "cell_type": "code",
   "execution_count": 164,
   "id": "157b90e0-bcf4-454a-8f85-7bd10cb07c84",
   "metadata": {},
   "outputs": [],
   "source": [
    "\n",
    "# specify the pattern to replace and the replacement text\n",
    "#this should match any R or L suffix and remove all text within ()\n",
    "\n",
    "patterns = ['_[RL]','_\\d','_C\\d']\n",
    "replacement_texts = ['','','']\n",
    "\n",
    "# open the file in read mode\n",
    "with open('G_auto.gv', 'r') as file:\n",
    "    # read the file lines\n",
    "    lines = file.readlines()\n",
    "    oglines = lines\n",
    "    \n",
    "# replace the patterns in each line\n",
    "for i in range(len(patterns)):\n",
    "    lines = [re.sub(patterns[i], replacement_texts[i], line) for line in lines]\n",
    "\n",
    "\n",
    "# open the file in write mode\n",
    "with open(noiFileName + '.gv', 'w') as postProcessfile:\n",
    "    # write the new lines to the file\n",
    "    postProcessfile.writelines(lines)\n",
    "    \n",
    "\n",
    "# open the file containing the graph in read mode\n",
    "with open(noiFileName + '_all.gv', 'w') as postProcessfile:\n",
    "    # write the new lines to the file\n",
    "    postProcessfile.writelines(oglines)"
   ]
  }
 ],
 "metadata": {
  "kernelspec": {
   "display_name": "Python 3 (ipykernel)",
   "language": "python",
   "name": "python3"
  },
  "language_info": {
   "codemirror_mode": {
    "name": "ipython",
    "version": 3
   },
   "file_extension": ".py",
   "mimetype": "text/x-python",
   "name": "python",
   "nbconvert_exporter": "python",
   "pygments_lexer": "ipython3",
   "version": "3.9.16"
  },
  "toc-autonumbering": false,
  "toc-showtags": true
 },
 "nbformat": 4,
 "nbformat_minor": 5
}
